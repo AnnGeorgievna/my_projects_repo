{
 "cells": [
  {
   "cell_type": "markdown",
   "metadata": {},
   "source": [
    "### Навигация по проекту:\n",
    "\n",
    "1. [Открытие и изучение данных](#start)\n",
    "2. [Предобработка данных](#preprocessing)\n",
    "3. [Анализ данных](#analysis)\n",
    "4. [Проверка гипотез](#hypotheses)   \n",
    "5. [Заключение](#conclusion)"
   ]
  },
  {
   "cell_type": "markdown",
   "metadata": {},
   "source": [
    "### Шаг 0. Подключение библиотек"
   ]
  },
  {
   "cell_type": "code",
   "execution_count": 2,
   "metadata": {},
   "outputs": [],
   "source": [
    "import pandas as pd\n",
    "import numpy as np\n",
    "import seaborn as sns"
   ]
  },
  {
   "cell_type": "markdown",
   "metadata": {},
   "source": [
    "### Шаг 1. Открытие и изучение данных. <a id=\"start\"></a> "
   ]
  },
  {
   "cell_type": "markdown",
   "metadata": {},
   "source": [
    "* Сперва загрузим файл и отобразим 5 строк"
   ]
  },
  {
   "cell_type": "code",
   "execution_count": 8,
   "metadata": {},
   "outputs": [
    {
     "data": {
      "text/plain": [
       "'Dataset: '"
      ]
     },
     "metadata": {},
     "output_type": "display_data"
    },
    {
     "data": {
      "text/plain": [
       "'users'"
      ]
     },
     "metadata": {},
     "output_type": "display_data"
    },
    {
     "data": {
      "text/html": [
       "<div>\n",
       "<style scoped>\n",
       "    .dataframe tbody tr th:only-of-type {\n",
       "        vertical-align: middle;\n",
       "    }\n",
       "\n",
       "    .dataframe tbody tr th {\n",
       "        vertical-align: top;\n",
       "    }\n",
       "\n",
       "    .dataframe thead th {\n",
       "        text-align: right;\n",
       "    }\n",
       "</style>\n",
       "<table border=\"1\" class=\"dataframe\">\n",
       "  <thead>\n",
       "    <tr style=\"text-align: right;\">\n",
       "      <th></th>\n",
       "      <th>user_id</th>\n",
       "      <th>age</th>\n",
       "      <th>churn_date</th>\n",
       "      <th>city</th>\n",
       "      <th>first_name</th>\n",
       "      <th>last_name</th>\n",
       "      <th>reg_date</th>\n",
       "      <th>tariff</th>\n",
       "    </tr>\n",
       "  </thead>\n",
       "  <tbody>\n",
       "    <tr>\n",
       "      <th>0</th>\n",
       "      <td>1000</td>\n",
       "      <td>52</td>\n",
       "      <td>NaT</td>\n",
       "      <td>Краснодар</td>\n",
       "      <td>Рафаил</td>\n",
       "      <td>Верещагин</td>\n",
       "      <td>2018-05-25</td>\n",
       "      <td>ultra</td>\n",
       "    </tr>\n",
       "    <tr>\n",
       "      <th>1</th>\n",
       "      <td>1001</td>\n",
       "      <td>41</td>\n",
       "      <td>NaT</td>\n",
       "      <td>Москва</td>\n",
       "      <td>Иван</td>\n",
       "      <td>Ежов</td>\n",
       "      <td>2018-11-01</td>\n",
       "      <td>smart</td>\n",
       "    </tr>\n",
       "    <tr>\n",
       "      <th>2</th>\n",
       "      <td>1002</td>\n",
       "      <td>59</td>\n",
       "      <td>NaT</td>\n",
       "      <td>Стерлитамак</td>\n",
       "      <td>Евгений</td>\n",
       "      <td>Абрамович</td>\n",
       "      <td>2018-06-17</td>\n",
       "      <td>smart</td>\n",
       "    </tr>\n",
       "    <tr>\n",
       "      <th>3</th>\n",
       "      <td>1003</td>\n",
       "      <td>23</td>\n",
       "      <td>NaT</td>\n",
       "      <td>Москва</td>\n",
       "      <td>Белла</td>\n",
       "      <td>Белякова</td>\n",
       "      <td>2018-08-17</td>\n",
       "      <td>ultra</td>\n",
       "    </tr>\n",
       "    <tr>\n",
       "      <th>4</th>\n",
       "      <td>1004</td>\n",
       "      <td>68</td>\n",
       "      <td>NaT</td>\n",
       "      <td>Новокузнецк</td>\n",
       "      <td>Татьяна</td>\n",
       "      <td>Авдеенко</td>\n",
       "      <td>2018-05-14</td>\n",
       "      <td>ultra</td>\n",
       "    </tr>\n",
       "  </tbody>\n",
       "</table>\n",
       "</div>"
      ],
      "text/plain": [
       "   user_id  age churn_date         city first_name  last_name   reg_date  \\\n",
       "0     1000   52        NaT    Краснодар     Рафаил  Верещагин 2018-05-25   \n",
       "1     1001   41        NaT       Москва       Иван       Ежов 2018-11-01   \n",
       "2     1002   59        NaT  Стерлитамак    Евгений  Абрамович 2018-06-17   \n",
       "3     1003   23        NaT       Москва      Белла   Белякова 2018-08-17   \n",
       "4     1004   68        NaT  Новокузнецк    Татьяна   Авдеенко 2018-05-14   \n",
       "\n",
       "  tariff  \n",
       "0  ultra  \n",
       "1  smart  \n",
       "2  smart  \n",
       "3  ultra  \n",
       "4  ultra  "
      ]
     },
     "metadata": {},
     "output_type": "display_data"
    },
    {
     "data": {
      "text/plain": [
       "'Dataset: '"
      ]
     },
     "metadata": {},
     "output_type": "display_data"
    },
    {
     "data": {
      "text/plain": [
       "'calls'"
      ]
     },
     "metadata": {},
     "output_type": "display_data"
    },
    {
     "data": {
      "text/html": [
       "<div>\n",
       "<style scoped>\n",
       "    .dataframe tbody tr th:only-of-type {\n",
       "        vertical-align: middle;\n",
       "    }\n",
       "\n",
       "    .dataframe tbody tr th {\n",
       "        vertical-align: top;\n",
       "    }\n",
       "\n",
       "    .dataframe thead th {\n",
       "        text-align: right;\n",
       "    }\n",
       "</style>\n",
       "<table border=\"1\" class=\"dataframe\">\n",
       "  <thead>\n",
       "    <tr style=\"text-align: right;\">\n",
       "      <th></th>\n",
       "      <th>id</th>\n",
       "      <th>call_date</th>\n",
       "      <th>duration</th>\n",
       "      <th>user_id</th>\n",
       "    </tr>\n",
       "  </thead>\n",
       "  <tbody>\n",
       "    <tr>\n",
       "      <th>0</th>\n",
       "      <td>1000_0</td>\n",
       "      <td>2018-07-25</td>\n",
       "      <td>0.00</td>\n",
       "      <td>1000</td>\n",
       "    </tr>\n",
       "    <tr>\n",
       "      <th>1</th>\n",
       "      <td>1000_1</td>\n",
       "      <td>2018-08-17</td>\n",
       "      <td>0.00</td>\n",
       "      <td>1000</td>\n",
       "    </tr>\n",
       "    <tr>\n",
       "      <th>2</th>\n",
       "      <td>1000_2</td>\n",
       "      <td>2018-06-11</td>\n",
       "      <td>2.85</td>\n",
       "      <td>1000</td>\n",
       "    </tr>\n",
       "    <tr>\n",
       "      <th>3</th>\n",
       "      <td>1000_3</td>\n",
       "      <td>2018-09-21</td>\n",
       "      <td>13.80</td>\n",
       "      <td>1000</td>\n",
       "    </tr>\n",
       "    <tr>\n",
       "      <th>4</th>\n",
       "      <td>1000_4</td>\n",
       "      <td>2018-12-15</td>\n",
       "      <td>5.18</td>\n",
       "      <td>1000</td>\n",
       "    </tr>\n",
       "  </tbody>\n",
       "</table>\n",
       "</div>"
      ],
      "text/plain": [
       "       id  call_date  duration  user_id\n",
       "0  1000_0 2018-07-25      0.00     1000\n",
       "1  1000_1 2018-08-17      0.00     1000\n",
       "2  1000_2 2018-06-11      2.85     1000\n",
       "3  1000_3 2018-09-21     13.80     1000\n",
       "4  1000_4 2018-12-15      5.18     1000"
      ]
     },
     "metadata": {},
     "output_type": "display_data"
    },
    {
     "data": {
      "text/plain": [
       "'Dataset: '"
      ]
     },
     "metadata": {},
     "output_type": "display_data"
    },
    {
     "data": {
      "text/plain": [
       "'messages'"
      ]
     },
     "metadata": {},
     "output_type": "display_data"
    },
    {
     "data": {
      "text/html": [
       "<div>\n",
       "<style scoped>\n",
       "    .dataframe tbody tr th:only-of-type {\n",
       "        vertical-align: middle;\n",
       "    }\n",
       "\n",
       "    .dataframe tbody tr th {\n",
       "        vertical-align: top;\n",
       "    }\n",
       "\n",
       "    .dataframe thead th {\n",
       "        text-align: right;\n",
       "    }\n",
       "</style>\n",
       "<table border=\"1\" class=\"dataframe\">\n",
       "  <thead>\n",
       "    <tr style=\"text-align: right;\">\n",
       "      <th></th>\n",
       "      <th>id</th>\n",
       "      <th>message_date</th>\n",
       "      <th>user_id</th>\n",
       "    </tr>\n",
       "  </thead>\n",
       "  <tbody>\n",
       "    <tr>\n",
       "      <th>0</th>\n",
       "      <td>1000_0</td>\n",
       "      <td>2018-06-27</td>\n",
       "      <td>1000</td>\n",
       "    </tr>\n",
       "    <tr>\n",
       "      <th>1</th>\n",
       "      <td>1000_1</td>\n",
       "      <td>2018-10-08</td>\n",
       "      <td>1000</td>\n",
       "    </tr>\n",
       "    <tr>\n",
       "      <th>2</th>\n",
       "      <td>1000_2</td>\n",
       "      <td>2018-08-04</td>\n",
       "      <td>1000</td>\n",
       "    </tr>\n",
       "    <tr>\n",
       "      <th>3</th>\n",
       "      <td>1000_3</td>\n",
       "      <td>2018-06-16</td>\n",
       "      <td>1000</td>\n",
       "    </tr>\n",
       "    <tr>\n",
       "      <th>4</th>\n",
       "      <td>1000_4</td>\n",
       "      <td>2018-12-05</td>\n",
       "      <td>1000</td>\n",
       "    </tr>\n",
       "  </tbody>\n",
       "</table>\n",
       "</div>"
      ],
      "text/plain": [
       "       id message_date  user_id\n",
       "0  1000_0   2018-06-27     1000\n",
       "1  1000_1   2018-10-08     1000\n",
       "2  1000_2   2018-08-04     1000\n",
       "3  1000_3   2018-06-16     1000\n",
       "4  1000_4   2018-12-05     1000"
      ]
     },
     "metadata": {},
     "output_type": "display_data"
    },
    {
     "data": {
      "text/plain": [
       "'Dataset: '"
      ]
     },
     "metadata": {},
     "output_type": "display_data"
    },
    {
     "data": {
      "text/plain": [
       "'internet'"
      ]
     },
     "metadata": {},
     "output_type": "display_data"
    },
    {
     "data": {
      "text/html": [
       "<div>\n",
       "<style scoped>\n",
       "    .dataframe tbody tr th:only-of-type {\n",
       "        vertical-align: middle;\n",
       "    }\n",
       "\n",
       "    .dataframe tbody tr th {\n",
       "        vertical-align: top;\n",
       "    }\n",
       "\n",
       "    .dataframe thead th {\n",
       "        text-align: right;\n",
       "    }\n",
       "</style>\n",
       "<table border=\"1\" class=\"dataframe\">\n",
       "  <thead>\n",
       "    <tr style=\"text-align: right;\">\n",
       "      <th></th>\n",
       "      <th>id</th>\n",
       "      <th>mb_used</th>\n",
       "      <th>session_date</th>\n",
       "      <th>user_id</th>\n",
       "    </tr>\n",
       "  </thead>\n",
       "  <tbody>\n",
       "    <tr>\n",
       "      <th>0</th>\n",
       "      <td>1000_0</td>\n",
       "      <td>112.95</td>\n",
       "      <td>2018-11-25</td>\n",
       "      <td>1000</td>\n",
       "    </tr>\n",
       "    <tr>\n",
       "      <th>1</th>\n",
       "      <td>1000_1</td>\n",
       "      <td>1052.81</td>\n",
       "      <td>2018-09-07</td>\n",
       "      <td>1000</td>\n",
       "    </tr>\n",
       "    <tr>\n",
       "      <th>2</th>\n",
       "      <td>1000_2</td>\n",
       "      <td>1197.26</td>\n",
       "      <td>2018-06-25</td>\n",
       "      <td>1000</td>\n",
       "    </tr>\n",
       "    <tr>\n",
       "      <th>3</th>\n",
       "      <td>1000_3</td>\n",
       "      <td>550.27</td>\n",
       "      <td>2018-08-22</td>\n",
       "      <td>1000</td>\n",
       "    </tr>\n",
       "    <tr>\n",
       "      <th>4</th>\n",
       "      <td>1000_4</td>\n",
       "      <td>302.56</td>\n",
       "      <td>2018-09-24</td>\n",
       "      <td>1000</td>\n",
       "    </tr>\n",
       "  </tbody>\n",
       "</table>\n",
       "</div>"
      ],
      "text/plain": [
       "       id  mb_used session_date  user_id\n",
       "0  1000_0   112.95   2018-11-25     1000\n",
       "1  1000_1  1052.81   2018-09-07     1000\n",
       "2  1000_2  1197.26   2018-06-25     1000\n",
       "3  1000_3   550.27   2018-08-22     1000\n",
       "4  1000_4   302.56   2018-09-24     1000"
      ]
     },
     "metadata": {},
     "output_type": "display_data"
    },
    {
     "data": {
      "text/plain": [
       "'Dataset: '"
      ]
     },
     "metadata": {},
     "output_type": "display_data"
    },
    {
     "data": {
      "text/plain": [
       "'tariffs'"
      ]
     },
     "metadata": {},
     "output_type": "display_data"
    },
    {
     "data": {
      "text/html": [
       "<div>\n",
       "<style scoped>\n",
       "    .dataframe tbody tr th:only-of-type {\n",
       "        vertical-align: middle;\n",
       "    }\n",
       "\n",
       "    .dataframe tbody tr th {\n",
       "        vertical-align: top;\n",
       "    }\n",
       "\n",
       "    .dataframe thead th {\n",
       "        text-align: right;\n",
       "    }\n",
       "</style>\n",
       "<table border=\"1\" class=\"dataframe\">\n",
       "  <thead>\n",
       "    <tr style=\"text-align: right;\">\n",
       "      <th></th>\n",
       "      <th>messages_included</th>\n",
       "      <th>mb_per_month_included</th>\n",
       "      <th>minutes_included</th>\n",
       "      <th>rub_monthly_fee</th>\n",
       "      <th>rub_per_gb</th>\n",
       "      <th>rub_per_message</th>\n",
       "      <th>rub_per_minute</th>\n",
       "      <th>tariff_name</th>\n",
       "    </tr>\n",
       "  </thead>\n",
       "  <tbody>\n",
       "    <tr>\n",
       "      <th>0</th>\n",
       "      <td>50</td>\n",
       "      <td>15360</td>\n",
       "      <td>500</td>\n",
       "      <td>550</td>\n",
       "      <td>200</td>\n",
       "      <td>3</td>\n",
       "      <td>3</td>\n",
       "      <td>smart</td>\n",
       "    </tr>\n",
       "    <tr>\n",
       "      <th>1</th>\n",
       "      <td>1000</td>\n",
       "      <td>30720</td>\n",
       "      <td>3000</td>\n",
       "      <td>1950</td>\n",
       "      <td>150</td>\n",
       "      <td>1</td>\n",
       "      <td>1</td>\n",
       "      <td>ultra</td>\n",
       "    </tr>\n",
       "  </tbody>\n",
       "</table>\n",
       "</div>"
      ],
      "text/plain": [
       "   messages_included  mb_per_month_included  minutes_included  \\\n",
       "0                 50                  15360               500   \n",
       "1               1000                  30720              3000   \n",
       "\n",
       "   rub_monthly_fee  rub_per_gb  rub_per_message  rub_per_minute tariff_name  \n",
       "0              550         200                3               3       smart  \n",
       "1             1950         150                1               1       ultra  "
      ]
     },
     "metadata": {},
     "output_type": "display_data"
    }
   ],
   "source": [
    "users = pd.read_csv('users.csv', parse_dates = ['churn_date','reg_date'])\n",
    "calls = pd.read_csv('calls.csv', parse_dates = ['call_date'])\n",
    "messages = pd.read_csv('messages.csv', parse_dates = ['message_date'])\n",
    "internet = pd.read_csv('internet.csv', parse_dates = ['session_date'], index_col=0)\n",
    "tariffs = pd.read_csv('tariffs.csv')\n",
    "\n",
    "dts = {'users':users, 'calls':calls, 'messages':messages, 'internet':internet, 'tariffs':tariffs}\n",
    "for name, dataset in dts.items():\n",
    "    display('Dataset: ', name)\n",
    "    display(dataset.head())\n",
    "    display()"
   ]
  },
  {
   "cell_type": "markdown",
   "metadata": {},
   "source": [
    "* Изучим столбцы и их типы"
   ]
  },
  {
   "cell_type": "code",
   "execution_count": 9,
   "metadata": {},
   "outputs": [
    {
     "data": {
      "text/plain": [
       "'Dataset: '"
      ]
     },
     "metadata": {},
     "output_type": "display_data"
    },
    {
     "data": {
      "text/plain": [
       "'users'"
      ]
     },
     "metadata": {},
     "output_type": "display_data"
    },
    {
     "name": "stdout",
     "output_type": "stream",
     "text": [
      "<class 'pandas.core.frame.DataFrame'>\n",
      "RangeIndex: 500 entries, 0 to 499\n",
      "Data columns (total 8 columns):\n",
      " #   Column      Non-Null Count  Dtype         \n",
      "---  ------      --------------  -----         \n",
      " 0   user_id     500 non-null    int64         \n",
      " 1   age         500 non-null    int64         \n",
      " 2   churn_date  38 non-null     datetime64[ns]\n",
      " 3   city        500 non-null    object        \n",
      " 4   first_name  500 non-null    object        \n",
      " 5   last_name   500 non-null    object        \n",
      " 6   reg_date    500 non-null    datetime64[ns]\n",
      " 7   tariff      500 non-null    object        \n",
      "dtypes: datetime64[ns](2), int64(2), object(4)\n",
      "memory usage: 31.4+ KB\n"
     ]
    },
    {
     "data": {
      "text/plain": [
       "None"
      ]
     },
     "metadata": {},
     "output_type": "display_data"
    },
    {
     "data": {
      "text/plain": [
       "'Dataset: '"
      ]
     },
     "metadata": {},
     "output_type": "display_data"
    },
    {
     "data": {
      "text/plain": [
       "'calls'"
      ]
     },
     "metadata": {},
     "output_type": "display_data"
    },
    {
     "name": "stdout",
     "output_type": "stream",
     "text": [
      "<class 'pandas.core.frame.DataFrame'>\n",
      "RangeIndex: 202607 entries, 0 to 202606\n",
      "Data columns (total 4 columns):\n",
      " #   Column     Non-Null Count   Dtype         \n",
      "---  ------     --------------   -----         \n",
      " 0   id         202607 non-null  object        \n",
      " 1   call_date  202607 non-null  datetime64[ns]\n",
      " 2   duration   202607 non-null  float64       \n",
      " 3   user_id    202607 non-null  int64         \n",
      "dtypes: datetime64[ns](1), float64(1), int64(1), object(1)\n",
      "memory usage: 6.2+ MB\n"
     ]
    },
    {
     "data": {
      "text/plain": [
       "None"
      ]
     },
     "metadata": {},
     "output_type": "display_data"
    },
    {
     "data": {
      "text/plain": [
       "'Dataset: '"
      ]
     },
     "metadata": {},
     "output_type": "display_data"
    },
    {
     "data": {
      "text/plain": [
       "'messages'"
      ]
     },
     "metadata": {},
     "output_type": "display_data"
    },
    {
     "name": "stdout",
     "output_type": "stream",
     "text": [
      "<class 'pandas.core.frame.DataFrame'>\n",
      "RangeIndex: 123036 entries, 0 to 123035\n",
      "Data columns (total 3 columns):\n",
      " #   Column        Non-Null Count   Dtype         \n",
      "---  ------        --------------   -----         \n",
      " 0   id            123036 non-null  object        \n",
      " 1   message_date  123036 non-null  datetime64[ns]\n",
      " 2   user_id       123036 non-null  int64         \n",
      "dtypes: datetime64[ns](1), int64(1), object(1)\n",
      "memory usage: 2.8+ MB\n"
     ]
    },
    {
     "data": {
      "text/plain": [
       "None"
      ]
     },
     "metadata": {},
     "output_type": "display_data"
    },
    {
     "data": {
      "text/plain": [
       "'Dataset: '"
      ]
     },
     "metadata": {},
     "output_type": "display_data"
    },
    {
     "data": {
      "text/plain": [
       "'internet'"
      ]
     },
     "metadata": {},
     "output_type": "display_data"
    },
    {
     "name": "stdout",
     "output_type": "stream",
     "text": [
      "<class 'pandas.core.frame.DataFrame'>\n",
      "Int64Index: 149396 entries, 0 to 149395\n",
      "Data columns (total 4 columns):\n",
      " #   Column        Non-Null Count   Dtype         \n",
      "---  ------        --------------   -----         \n",
      " 0   id            149396 non-null  object        \n",
      " 1   mb_used       149396 non-null  float64       \n",
      " 2   session_date  149396 non-null  datetime64[ns]\n",
      " 3   user_id       149396 non-null  int64         \n",
      "dtypes: datetime64[ns](1), float64(1), int64(1), object(1)\n",
      "memory usage: 5.7+ MB\n"
     ]
    },
    {
     "data": {
      "text/plain": [
       "None"
      ]
     },
     "metadata": {},
     "output_type": "display_data"
    },
    {
     "data": {
      "text/plain": [
       "'Dataset: '"
      ]
     },
     "metadata": {},
     "output_type": "display_data"
    },
    {
     "data": {
      "text/plain": [
       "'tariffs'"
      ]
     },
     "metadata": {},
     "output_type": "display_data"
    },
    {
     "name": "stdout",
     "output_type": "stream",
     "text": [
      "<class 'pandas.core.frame.DataFrame'>\n",
      "RangeIndex: 2 entries, 0 to 1\n",
      "Data columns (total 8 columns):\n",
      " #   Column                 Non-Null Count  Dtype \n",
      "---  ------                 --------------  ----- \n",
      " 0   messages_included      2 non-null      int64 \n",
      " 1   mb_per_month_included  2 non-null      int64 \n",
      " 2   minutes_included       2 non-null      int64 \n",
      " 3   rub_monthly_fee        2 non-null      int64 \n",
      " 4   rub_per_gb             2 non-null      int64 \n",
      " 5   rub_per_message        2 non-null      int64 \n",
      " 6   rub_per_minute         2 non-null      int64 \n",
      " 7   tariff_name            2 non-null      object\n",
      "dtypes: int64(7), object(1)\n",
      "memory usage: 256.0+ bytes\n"
     ]
    },
    {
     "data": {
      "text/plain": [
       "None"
      ]
     },
     "metadata": {},
     "output_type": "display_data"
    }
   ],
   "source": [
    "for name, dataset in dts.items():\n",
    "    display('Dataset: ', name)\n",
    "    display(dataset.info())\n",
    "    display()\n",
    "    display()"
   ]
  },
  {
   "cell_type": "markdown",
   "metadata": {},
   "source": [
    "* Проверим скрытые пропуски"
   ]
  },
  {
   "cell_type": "code",
   "execution_count": 10,
   "metadata": {},
   "outputs": [],
   "source": [
    "def nan_values(df,list_nans=['', ' ', '\"\"', '\" \"', None, np.nan]):\n",
    "    \n",
    "    list_count=[]\n",
    "    list_share=[]    \n",
    "    \n",
    "    for col in df.columns:\n",
    "        list_count.append(sum(df[col].isin(list_nans)))\n",
    "        list_share.append(round(sum(df[col].isin(list_nans)) * 100 / len(df), 2))\n",
    "    \n",
    "        \n",
    "    missing_value_df = pd.DataFrame({'column_name': df.columns,\n",
    "                                     'num_missing': list_count,\n",
    "                                     'percent_missing': list_share})\n",
    "    \n",
    "    return missing_value_df"
   ]
  },
  {
   "cell_type": "code",
   "execution_count": 5,
   "metadata": {},
   "outputs": [
    {
     "data": {
      "text/plain": [
       "'Dataset: '"
      ]
     },
     "metadata": {},
     "output_type": "display_data"
    },
    {
     "data": {
      "text/plain": [
       "'users'"
      ]
     },
     "metadata": {},
     "output_type": "display_data"
    },
    {
     "data": {
      "text/html": [
       "<div>\n",
       "<style scoped>\n",
       "    .dataframe tbody tr th:only-of-type {\n",
       "        vertical-align: middle;\n",
       "    }\n",
       "\n",
       "    .dataframe tbody tr th {\n",
       "        vertical-align: top;\n",
       "    }\n",
       "\n",
       "    .dataframe thead th {\n",
       "        text-align: right;\n",
       "    }\n",
       "</style>\n",
       "<table border=\"1\" class=\"dataframe\">\n",
       "  <thead>\n",
       "    <tr style=\"text-align: right;\">\n",
       "      <th></th>\n",
       "      <th>column_name</th>\n",
       "      <th>num_missing</th>\n",
       "      <th>percent_missing</th>\n",
       "    </tr>\n",
       "  </thead>\n",
       "  <tbody>\n",
       "    <tr>\n",
       "      <th>0</th>\n",
       "      <td>user_id</td>\n",
       "      <td>0</td>\n",
       "      <td>0.0</td>\n",
       "    </tr>\n",
       "    <tr>\n",
       "      <th>1</th>\n",
       "      <td>age</td>\n",
       "      <td>0</td>\n",
       "      <td>0.0</td>\n",
       "    </tr>\n",
       "    <tr>\n",
       "      <th>2</th>\n",
       "      <td>churn_date</td>\n",
       "      <td>0</td>\n",
       "      <td>0.0</td>\n",
       "    </tr>\n",
       "    <tr>\n",
       "      <th>3</th>\n",
       "      <td>city</td>\n",
       "      <td>0</td>\n",
       "      <td>0.0</td>\n",
       "    </tr>\n",
       "    <tr>\n",
       "      <th>4</th>\n",
       "      <td>first_name</td>\n",
       "      <td>0</td>\n",
       "      <td>0.0</td>\n",
       "    </tr>\n",
       "    <tr>\n",
       "      <th>5</th>\n",
       "      <td>last_name</td>\n",
       "      <td>0</td>\n",
       "      <td>0.0</td>\n",
       "    </tr>\n",
       "    <tr>\n",
       "      <th>6</th>\n",
       "      <td>reg_date</td>\n",
       "      <td>0</td>\n",
       "      <td>0.0</td>\n",
       "    </tr>\n",
       "    <tr>\n",
       "      <th>7</th>\n",
       "      <td>tariff</td>\n",
       "      <td>0</td>\n",
       "      <td>0.0</td>\n",
       "    </tr>\n",
       "  </tbody>\n",
       "</table>\n",
       "</div>"
      ],
      "text/plain": [
       "  column_name  num_missing  percent_missing\n",
       "0     user_id            0              0.0\n",
       "1         age            0              0.0\n",
       "2  churn_date            0              0.0\n",
       "3        city            0              0.0\n",
       "4  first_name            0              0.0\n",
       "5   last_name            0              0.0\n",
       "6    reg_date            0              0.0\n",
       "7      tariff            0              0.0"
      ]
     },
     "metadata": {},
     "output_type": "display_data"
    },
    {
     "data": {
      "text/plain": [
       "'Dataset: '"
      ]
     },
     "metadata": {},
     "output_type": "display_data"
    },
    {
     "data": {
      "text/plain": [
       "'calls'"
      ]
     },
     "metadata": {},
     "output_type": "display_data"
    },
    {
     "data": {
      "text/html": [
       "<div>\n",
       "<style scoped>\n",
       "    .dataframe tbody tr th:only-of-type {\n",
       "        vertical-align: middle;\n",
       "    }\n",
       "\n",
       "    .dataframe tbody tr th {\n",
       "        vertical-align: top;\n",
       "    }\n",
       "\n",
       "    .dataframe thead th {\n",
       "        text-align: right;\n",
       "    }\n",
       "</style>\n",
       "<table border=\"1\" class=\"dataframe\">\n",
       "  <thead>\n",
       "    <tr style=\"text-align: right;\">\n",
       "      <th></th>\n",
       "      <th>column_name</th>\n",
       "      <th>num_missing</th>\n",
       "      <th>percent_missing</th>\n",
       "    </tr>\n",
       "  </thead>\n",
       "  <tbody>\n",
       "    <tr>\n",
       "      <th>0</th>\n",
       "      <td>id</td>\n",
       "      <td>0</td>\n",
       "      <td>0.0</td>\n",
       "    </tr>\n",
       "    <tr>\n",
       "      <th>1</th>\n",
       "      <td>call_date</td>\n",
       "      <td>0</td>\n",
       "      <td>0.0</td>\n",
       "    </tr>\n",
       "    <tr>\n",
       "      <th>2</th>\n",
       "      <td>duration</td>\n",
       "      <td>0</td>\n",
       "      <td>0.0</td>\n",
       "    </tr>\n",
       "    <tr>\n",
       "      <th>3</th>\n",
       "      <td>user_id</td>\n",
       "      <td>0</td>\n",
       "      <td>0.0</td>\n",
       "    </tr>\n",
       "  </tbody>\n",
       "</table>\n",
       "</div>"
      ],
      "text/plain": [
       "  column_name  num_missing  percent_missing\n",
       "0          id            0              0.0\n",
       "1   call_date            0              0.0\n",
       "2    duration            0              0.0\n",
       "3     user_id            0              0.0"
      ]
     },
     "metadata": {},
     "output_type": "display_data"
    },
    {
     "data": {
      "text/plain": [
       "'Dataset: '"
      ]
     },
     "metadata": {},
     "output_type": "display_data"
    },
    {
     "data": {
      "text/plain": [
       "'messages'"
      ]
     },
     "metadata": {},
     "output_type": "display_data"
    },
    {
     "data": {
      "text/html": [
       "<div>\n",
       "<style scoped>\n",
       "    .dataframe tbody tr th:only-of-type {\n",
       "        vertical-align: middle;\n",
       "    }\n",
       "\n",
       "    .dataframe tbody tr th {\n",
       "        vertical-align: top;\n",
       "    }\n",
       "\n",
       "    .dataframe thead th {\n",
       "        text-align: right;\n",
       "    }\n",
       "</style>\n",
       "<table border=\"1\" class=\"dataframe\">\n",
       "  <thead>\n",
       "    <tr style=\"text-align: right;\">\n",
       "      <th></th>\n",
       "      <th>column_name</th>\n",
       "      <th>num_missing</th>\n",
       "      <th>percent_missing</th>\n",
       "    </tr>\n",
       "  </thead>\n",
       "  <tbody>\n",
       "    <tr>\n",
       "      <th>0</th>\n",
       "      <td>id</td>\n",
       "      <td>0</td>\n",
       "      <td>0.0</td>\n",
       "    </tr>\n",
       "    <tr>\n",
       "      <th>1</th>\n",
       "      <td>message_date</td>\n",
       "      <td>0</td>\n",
       "      <td>0.0</td>\n",
       "    </tr>\n",
       "    <tr>\n",
       "      <th>2</th>\n",
       "      <td>user_id</td>\n",
       "      <td>0</td>\n",
       "      <td>0.0</td>\n",
       "    </tr>\n",
       "  </tbody>\n",
       "</table>\n",
       "</div>"
      ],
      "text/plain": [
       "    column_name  num_missing  percent_missing\n",
       "0            id            0              0.0\n",
       "1  message_date            0              0.0\n",
       "2       user_id            0              0.0"
      ]
     },
     "metadata": {},
     "output_type": "display_data"
    },
    {
     "data": {
      "text/plain": [
       "'Dataset: '"
      ]
     },
     "metadata": {},
     "output_type": "display_data"
    },
    {
     "data": {
      "text/plain": [
       "'internet'"
      ]
     },
     "metadata": {},
     "output_type": "display_data"
    },
    {
     "data": {
      "text/html": [
       "<div>\n",
       "<style scoped>\n",
       "    .dataframe tbody tr th:only-of-type {\n",
       "        vertical-align: middle;\n",
       "    }\n",
       "\n",
       "    .dataframe tbody tr th {\n",
       "        vertical-align: top;\n",
       "    }\n",
       "\n",
       "    .dataframe thead th {\n",
       "        text-align: right;\n",
       "    }\n",
       "</style>\n",
       "<table border=\"1\" class=\"dataframe\">\n",
       "  <thead>\n",
       "    <tr style=\"text-align: right;\">\n",
       "      <th></th>\n",
       "      <th>column_name</th>\n",
       "      <th>num_missing</th>\n",
       "      <th>percent_missing</th>\n",
       "    </tr>\n",
       "  </thead>\n",
       "  <tbody>\n",
       "    <tr>\n",
       "      <th>0</th>\n",
       "      <td>id</td>\n",
       "      <td>0</td>\n",
       "      <td>0.0</td>\n",
       "    </tr>\n",
       "    <tr>\n",
       "      <th>1</th>\n",
       "      <td>mb_used</td>\n",
       "      <td>0</td>\n",
       "      <td>0.0</td>\n",
       "    </tr>\n",
       "    <tr>\n",
       "      <th>2</th>\n",
       "      <td>session_date</td>\n",
       "      <td>0</td>\n",
       "      <td>0.0</td>\n",
       "    </tr>\n",
       "    <tr>\n",
       "      <th>3</th>\n",
       "      <td>user_id</td>\n",
       "      <td>0</td>\n",
       "      <td>0.0</td>\n",
       "    </tr>\n",
       "  </tbody>\n",
       "</table>\n",
       "</div>"
      ],
      "text/plain": [
       "    column_name  num_missing  percent_missing\n",
       "0            id            0              0.0\n",
       "1       mb_used            0              0.0\n",
       "2  session_date            0              0.0\n",
       "3       user_id            0              0.0"
      ]
     },
     "metadata": {},
     "output_type": "display_data"
    },
    {
     "data": {
      "text/plain": [
       "'Dataset: '"
      ]
     },
     "metadata": {},
     "output_type": "display_data"
    },
    {
     "data": {
      "text/plain": [
       "'tariffs'"
      ]
     },
     "metadata": {},
     "output_type": "display_data"
    },
    {
     "data": {
      "text/html": [
       "<div>\n",
       "<style scoped>\n",
       "    .dataframe tbody tr th:only-of-type {\n",
       "        vertical-align: middle;\n",
       "    }\n",
       "\n",
       "    .dataframe tbody tr th {\n",
       "        vertical-align: top;\n",
       "    }\n",
       "\n",
       "    .dataframe thead th {\n",
       "        text-align: right;\n",
       "    }\n",
       "</style>\n",
       "<table border=\"1\" class=\"dataframe\">\n",
       "  <thead>\n",
       "    <tr style=\"text-align: right;\">\n",
       "      <th></th>\n",
       "      <th>column_name</th>\n",
       "      <th>num_missing</th>\n",
       "      <th>percent_missing</th>\n",
       "    </tr>\n",
       "  </thead>\n",
       "  <tbody>\n",
       "    <tr>\n",
       "      <th>0</th>\n",
       "      <td>messages_included</td>\n",
       "      <td>0</td>\n",
       "      <td>0.0</td>\n",
       "    </tr>\n",
       "    <tr>\n",
       "      <th>1</th>\n",
       "      <td>mb_per_month_included</td>\n",
       "      <td>0</td>\n",
       "      <td>0.0</td>\n",
       "    </tr>\n",
       "    <tr>\n",
       "      <th>2</th>\n",
       "      <td>minutes_included</td>\n",
       "      <td>0</td>\n",
       "      <td>0.0</td>\n",
       "    </tr>\n",
       "    <tr>\n",
       "      <th>3</th>\n",
       "      <td>rub_monthly_fee</td>\n",
       "      <td>0</td>\n",
       "      <td>0.0</td>\n",
       "    </tr>\n",
       "    <tr>\n",
       "      <th>4</th>\n",
       "      <td>rub_per_gb</td>\n",
       "      <td>0</td>\n",
       "      <td>0.0</td>\n",
       "    </tr>\n",
       "    <tr>\n",
       "      <th>5</th>\n",
       "      <td>rub_per_message</td>\n",
       "      <td>0</td>\n",
       "      <td>0.0</td>\n",
       "    </tr>\n",
       "    <tr>\n",
       "      <th>6</th>\n",
       "      <td>rub_per_minute</td>\n",
       "      <td>0</td>\n",
       "      <td>0.0</td>\n",
       "    </tr>\n",
       "    <tr>\n",
       "      <th>7</th>\n",
       "      <td>tariff_name</td>\n",
       "      <td>0</td>\n",
       "      <td>0.0</td>\n",
       "    </tr>\n",
       "  </tbody>\n",
       "</table>\n",
       "</div>"
      ],
      "text/plain": [
       "             column_name  num_missing  percent_missing\n",
       "0      messages_included            0              0.0\n",
       "1  mb_per_month_included            0              0.0\n",
       "2       minutes_included            0              0.0\n",
       "3        rub_monthly_fee            0              0.0\n",
       "4             rub_per_gb            0              0.0\n",
       "5        rub_per_message            0              0.0\n",
       "6         rub_per_minute            0              0.0\n",
       "7            tariff_name            0              0.0"
      ]
     },
     "metadata": {},
     "output_type": "display_data"
    }
   ],
   "source": [
    "for name, dataset in dts.items():\n",
    "    display('Dataset: ', name)\n",
    "    display(nan_values(dataset))\n",
    "    display()\n",
    "    display()"
   ]
  },
  {
   "cell_type": "markdown",
   "metadata": {},
   "source": [
    "Скрытых пропусков тоже не обнаружено. \n",
    "* Смотрим общее описание."
   ]
  },
  {
   "cell_type": "code",
   "execution_count": 11,
   "metadata": {},
   "outputs": [
    {
     "data": {
      "text/plain": [
       "'Dataset: '"
      ]
     },
     "metadata": {},
     "output_type": "display_data"
    },
    {
     "data": {
      "text/plain": [
       "'users'"
      ]
     },
     "metadata": {},
     "output_type": "display_data"
    },
    {
     "data": {
      "text/html": [
       "<div>\n",
       "<style scoped>\n",
       "    .dataframe tbody tr th:only-of-type {\n",
       "        vertical-align: middle;\n",
       "    }\n",
       "\n",
       "    .dataframe tbody tr th {\n",
       "        vertical-align: top;\n",
       "    }\n",
       "\n",
       "    .dataframe thead th {\n",
       "        text-align: right;\n",
       "    }\n",
       "</style>\n",
       "<table border=\"1\" class=\"dataframe\">\n",
       "  <thead>\n",
       "    <tr style=\"text-align: right;\">\n",
       "      <th></th>\n",
       "      <th>user_id</th>\n",
       "      <th>age</th>\n",
       "    </tr>\n",
       "  </thead>\n",
       "  <tbody>\n",
       "    <tr>\n",
       "      <th>count</th>\n",
       "      <td>500.000000</td>\n",
       "      <td>500.00000</td>\n",
       "    </tr>\n",
       "    <tr>\n",
       "      <th>mean</th>\n",
       "      <td>1249.500000</td>\n",
       "      <td>46.58800</td>\n",
       "    </tr>\n",
       "    <tr>\n",
       "      <th>std</th>\n",
       "      <td>144.481833</td>\n",
       "      <td>16.66763</td>\n",
       "    </tr>\n",
       "    <tr>\n",
       "      <th>min</th>\n",
       "      <td>1000.000000</td>\n",
       "      <td>18.00000</td>\n",
       "    </tr>\n",
       "    <tr>\n",
       "      <th>25%</th>\n",
       "      <td>1124.750000</td>\n",
       "      <td>32.00000</td>\n",
       "    </tr>\n",
       "    <tr>\n",
       "      <th>50%</th>\n",
       "      <td>1249.500000</td>\n",
       "      <td>46.00000</td>\n",
       "    </tr>\n",
       "    <tr>\n",
       "      <th>75%</th>\n",
       "      <td>1374.250000</td>\n",
       "      <td>62.00000</td>\n",
       "    </tr>\n",
       "    <tr>\n",
       "      <th>max</th>\n",
       "      <td>1499.000000</td>\n",
       "      <td>75.00000</td>\n",
       "    </tr>\n",
       "  </tbody>\n",
       "</table>\n",
       "</div>"
      ],
      "text/plain": [
       "           user_id        age\n",
       "count   500.000000  500.00000\n",
       "mean   1249.500000   46.58800\n",
       "std     144.481833   16.66763\n",
       "min    1000.000000   18.00000\n",
       "25%    1124.750000   32.00000\n",
       "50%    1249.500000   46.00000\n",
       "75%    1374.250000   62.00000\n",
       "max    1499.000000   75.00000"
      ]
     },
     "metadata": {},
     "output_type": "display_data"
    },
    {
     "data": {
      "text/plain": [
       "'Dataset: '"
      ]
     },
     "metadata": {},
     "output_type": "display_data"
    },
    {
     "data": {
      "text/plain": [
       "'calls'"
      ]
     },
     "metadata": {},
     "output_type": "display_data"
    },
    {
     "data": {
      "text/html": [
       "<div>\n",
       "<style scoped>\n",
       "    .dataframe tbody tr th:only-of-type {\n",
       "        vertical-align: middle;\n",
       "    }\n",
       "\n",
       "    .dataframe tbody tr th {\n",
       "        vertical-align: top;\n",
       "    }\n",
       "\n",
       "    .dataframe thead th {\n",
       "        text-align: right;\n",
       "    }\n",
       "</style>\n",
       "<table border=\"1\" class=\"dataframe\">\n",
       "  <thead>\n",
       "    <tr style=\"text-align: right;\">\n",
       "      <th></th>\n",
       "      <th>duration</th>\n",
       "      <th>user_id</th>\n",
       "    </tr>\n",
       "  </thead>\n",
       "  <tbody>\n",
       "    <tr>\n",
       "      <th>count</th>\n",
       "      <td>202607.000000</td>\n",
       "      <td>202607.000000</td>\n",
       "    </tr>\n",
       "    <tr>\n",
       "      <th>mean</th>\n",
       "      <td>6.755887</td>\n",
       "      <td>1253.940619</td>\n",
       "    </tr>\n",
       "    <tr>\n",
       "      <th>std</th>\n",
       "      <td>5.843365</td>\n",
       "      <td>144.722751</td>\n",
       "    </tr>\n",
       "    <tr>\n",
       "      <th>min</th>\n",
       "      <td>0.000000</td>\n",
       "      <td>1000.000000</td>\n",
       "    </tr>\n",
       "    <tr>\n",
       "      <th>25%</th>\n",
       "      <td>1.300000</td>\n",
       "      <td>1126.000000</td>\n",
       "    </tr>\n",
       "    <tr>\n",
       "      <th>50%</th>\n",
       "      <td>6.000000</td>\n",
       "      <td>1260.000000</td>\n",
       "    </tr>\n",
       "    <tr>\n",
       "      <th>75%</th>\n",
       "      <td>10.700000</td>\n",
       "      <td>1379.000000</td>\n",
       "    </tr>\n",
       "    <tr>\n",
       "      <th>max</th>\n",
       "      <td>38.000000</td>\n",
       "      <td>1499.000000</td>\n",
       "    </tr>\n",
       "  </tbody>\n",
       "</table>\n",
       "</div>"
      ],
      "text/plain": [
       "            duration        user_id\n",
       "count  202607.000000  202607.000000\n",
       "mean        6.755887    1253.940619\n",
       "std         5.843365     144.722751\n",
       "min         0.000000    1000.000000\n",
       "25%         1.300000    1126.000000\n",
       "50%         6.000000    1260.000000\n",
       "75%        10.700000    1379.000000\n",
       "max        38.000000    1499.000000"
      ]
     },
     "metadata": {},
     "output_type": "display_data"
    },
    {
     "data": {
      "text/plain": [
       "'Dataset: '"
      ]
     },
     "metadata": {},
     "output_type": "display_data"
    },
    {
     "data": {
      "text/plain": [
       "'messages'"
      ]
     },
     "metadata": {},
     "output_type": "display_data"
    },
    {
     "data": {
      "text/html": [
       "<div>\n",
       "<style scoped>\n",
       "    .dataframe tbody tr th:only-of-type {\n",
       "        vertical-align: middle;\n",
       "    }\n",
       "\n",
       "    .dataframe tbody tr th {\n",
       "        vertical-align: top;\n",
       "    }\n",
       "\n",
       "    .dataframe thead th {\n",
       "        text-align: right;\n",
       "    }\n",
       "</style>\n",
       "<table border=\"1\" class=\"dataframe\">\n",
       "  <thead>\n",
       "    <tr style=\"text-align: right;\">\n",
       "      <th></th>\n",
       "      <th>user_id</th>\n",
       "    </tr>\n",
       "  </thead>\n",
       "  <tbody>\n",
       "    <tr>\n",
       "      <th>count</th>\n",
       "      <td>123036.000000</td>\n",
       "    </tr>\n",
       "    <tr>\n",
       "      <th>mean</th>\n",
       "      <td>1256.989410</td>\n",
       "    </tr>\n",
       "    <tr>\n",
       "      <th>std</th>\n",
       "      <td>143.523967</td>\n",
       "    </tr>\n",
       "    <tr>\n",
       "      <th>min</th>\n",
       "      <td>1000.000000</td>\n",
       "    </tr>\n",
       "    <tr>\n",
       "      <th>25%</th>\n",
       "      <td>1134.000000</td>\n",
       "    </tr>\n",
       "    <tr>\n",
       "      <th>50%</th>\n",
       "      <td>1271.000000</td>\n",
       "    </tr>\n",
       "    <tr>\n",
       "      <th>75%</th>\n",
       "      <td>1381.000000</td>\n",
       "    </tr>\n",
       "    <tr>\n",
       "      <th>max</th>\n",
       "      <td>1499.000000</td>\n",
       "    </tr>\n",
       "  </tbody>\n",
       "</table>\n",
       "</div>"
      ],
      "text/plain": [
       "             user_id\n",
       "count  123036.000000\n",
       "mean     1256.989410\n",
       "std       143.523967\n",
       "min      1000.000000\n",
       "25%      1134.000000\n",
       "50%      1271.000000\n",
       "75%      1381.000000\n",
       "max      1499.000000"
      ]
     },
     "metadata": {},
     "output_type": "display_data"
    },
    {
     "data": {
      "text/plain": [
       "'Dataset: '"
      ]
     },
     "metadata": {},
     "output_type": "display_data"
    },
    {
     "data": {
      "text/plain": [
       "'internet'"
      ]
     },
     "metadata": {},
     "output_type": "display_data"
    },
    {
     "data": {
      "text/html": [
       "<div>\n",
       "<style scoped>\n",
       "    .dataframe tbody tr th:only-of-type {\n",
       "        vertical-align: middle;\n",
       "    }\n",
       "\n",
       "    .dataframe tbody tr th {\n",
       "        vertical-align: top;\n",
       "    }\n",
       "\n",
       "    .dataframe thead th {\n",
       "        text-align: right;\n",
       "    }\n",
       "</style>\n",
       "<table border=\"1\" class=\"dataframe\">\n",
       "  <thead>\n",
       "    <tr style=\"text-align: right;\">\n",
       "      <th></th>\n",
       "      <th>mb_used</th>\n",
       "      <th>user_id</th>\n",
       "    </tr>\n",
       "  </thead>\n",
       "  <tbody>\n",
       "    <tr>\n",
       "      <th>count</th>\n",
       "      <td>149396.000000</td>\n",
       "      <td>149396.000000</td>\n",
       "    </tr>\n",
       "    <tr>\n",
       "      <th>mean</th>\n",
       "      <td>370.192426</td>\n",
       "      <td>1252.099842</td>\n",
       "    </tr>\n",
       "    <tr>\n",
       "      <th>std</th>\n",
       "      <td>278.300951</td>\n",
       "      <td>144.050823</td>\n",
       "    </tr>\n",
       "    <tr>\n",
       "      <th>min</th>\n",
       "      <td>0.000000</td>\n",
       "      <td>1000.000000</td>\n",
       "    </tr>\n",
       "    <tr>\n",
       "      <th>25%</th>\n",
       "      <td>138.187500</td>\n",
       "      <td>1130.000000</td>\n",
       "    </tr>\n",
       "    <tr>\n",
       "      <th>50%</th>\n",
       "      <td>348.015000</td>\n",
       "      <td>1251.000000</td>\n",
       "    </tr>\n",
       "    <tr>\n",
       "      <th>75%</th>\n",
       "      <td>559.552500</td>\n",
       "      <td>1380.000000</td>\n",
       "    </tr>\n",
       "    <tr>\n",
       "      <th>max</th>\n",
       "      <td>1724.830000</td>\n",
       "      <td>1499.000000</td>\n",
       "    </tr>\n",
       "  </tbody>\n",
       "</table>\n",
       "</div>"
      ],
      "text/plain": [
       "             mb_used        user_id\n",
       "count  149396.000000  149396.000000\n",
       "mean      370.192426    1252.099842\n",
       "std       278.300951     144.050823\n",
       "min         0.000000    1000.000000\n",
       "25%       138.187500    1130.000000\n",
       "50%       348.015000    1251.000000\n",
       "75%       559.552500    1380.000000\n",
       "max      1724.830000    1499.000000"
      ]
     },
     "metadata": {},
     "output_type": "display_data"
    },
    {
     "data": {
      "text/plain": [
       "'Dataset: '"
      ]
     },
     "metadata": {},
     "output_type": "display_data"
    },
    {
     "data": {
      "text/plain": [
       "'tariffs'"
      ]
     },
     "metadata": {},
     "output_type": "display_data"
    },
    {
     "data": {
      "text/html": [
       "<div>\n",
       "<style scoped>\n",
       "    .dataframe tbody tr th:only-of-type {\n",
       "        vertical-align: middle;\n",
       "    }\n",
       "\n",
       "    .dataframe tbody tr th {\n",
       "        vertical-align: top;\n",
       "    }\n",
       "\n",
       "    .dataframe thead th {\n",
       "        text-align: right;\n",
       "    }\n",
       "</style>\n",
       "<table border=\"1\" class=\"dataframe\">\n",
       "  <thead>\n",
       "    <tr style=\"text-align: right;\">\n",
       "      <th></th>\n",
       "      <th>messages_included</th>\n",
       "      <th>mb_per_month_included</th>\n",
       "      <th>minutes_included</th>\n",
       "      <th>rub_monthly_fee</th>\n",
       "      <th>rub_per_gb</th>\n",
       "      <th>rub_per_message</th>\n",
       "      <th>rub_per_minute</th>\n",
       "    </tr>\n",
       "  </thead>\n",
       "  <tbody>\n",
       "    <tr>\n",
       "      <th>count</th>\n",
       "      <td>2.000000</td>\n",
       "      <td>2.000000</td>\n",
       "      <td>2.000000</td>\n",
       "      <td>2.000000</td>\n",
       "      <td>2.000000</td>\n",
       "      <td>2.000000</td>\n",
       "      <td>2.000000</td>\n",
       "    </tr>\n",
       "    <tr>\n",
       "      <th>mean</th>\n",
       "      <td>525.000000</td>\n",
       "      <td>23040.000000</td>\n",
       "      <td>1750.000000</td>\n",
       "      <td>1250.000000</td>\n",
       "      <td>175.000000</td>\n",
       "      <td>2.000000</td>\n",
       "      <td>2.000000</td>\n",
       "    </tr>\n",
       "    <tr>\n",
       "      <th>std</th>\n",
       "      <td>671.751442</td>\n",
       "      <td>10861.160159</td>\n",
       "      <td>1767.766953</td>\n",
       "      <td>989.949494</td>\n",
       "      <td>35.355339</td>\n",
       "      <td>1.414214</td>\n",
       "      <td>1.414214</td>\n",
       "    </tr>\n",
       "    <tr>\n",
       "      <th>min</th>\n",
       "      <td>50.000000</td>\n",
       "      <td>15360.000000</td>\n",
       "      <td>500.000000</td>\n",
       "      <td>550.000000</td>\n",
       "      <td>150.000000</td>\n",
       "      <td>1.000000</td>\n",
       "      <td>1.000000</td>\n",
       "    </tr>\n",
       "    <tr>\n",
       "      <th>25%</th>\n",
       "      <td>287.500000</td>\n",
       "      <td>19200.000000</td>\n",
       "      <td>1125.000000</td>\n",
       "      <td>900.000000</td>\n",
       "      <td>162.500000</td>\n",
       "      <td>1.500000</td>\n",
       "      <td>1.500000</td>\n",
       "    </tr>\n",
       "    <tr>\n",
       "      <th>50%</th>\n",
       "      <td>525.000000</td>\n",
       "      <td>23040.000000</td>\n",
       "      <td>1750.000000</td>\n",
       "      <td>1250.000000</td>\n",
       "      <td>175.000000</td>\n",
       "      <td>2.000000</td>\n",
       "      <td>2.000000</td>\n",
       "    </tr>\n",
       "    <tr>\n",
       "      <th>75%</th>\n",
       "      <td>762.500000</td>\n",
       "      <td>26880.000000</td>\n",
       "      <td>2375.000000</td>\n",
       "      <td>1600.000000</td>\n",
       "      <td>187.500000</td>\n",
       "      <td>2.500000</td>\n",
       "      <td>2.500000</td>\n",
       "    </tr>\n",
       "    <tr>\n",
       "      <th>max</th>\n",
       "      <td>1000.000000</td>\n",
       "      <td>30720.000000</td>\n",
       "      <td>3000.000000</td>\n",
       "      <td>1950.000000</td>\n",
       "      <td>200.000000</td>\n",
       "      <td>3.000000</td>\n",
       "      <td>3.000000</td>\n",
       "    </tr>\n",
       "  </tbody>\n",
       "</table>\n",
       "</div>"
      ],
      "text/plain": [
       "       messages_included  mb_per_month_included  minutes_included  \\\n",
       "count           2.000000               2.000000          2.000000   \n",
       "mean          525.000000           23040.000000       1750.000000   \n",
       "std           671.751442           10861.160159       1767.766953   \n",
       "min            50.000000           15360.000000        500.000000   \n",
       "25%           287.500000           19200.000000       1125.000000   \n",
       "50%           525.000000           23040.000000       1750.000000   \n",
       "75%           762.500000           26880.000000       2375.000000   \n",
       "max          1000.000000           30720.000000       3000.000000   \n",
       "\n",
       "       rub_monthly_fee  rub_per_gb  rub_per_message  rub_per_minute  \n",
       "count         2.000000    2.000000         2.000000        2.000000  \n",
       "mean       1250.000000  175.000000         2.000000        2.000000  \n",
       "std         989.949494   35.355339         1.414214        1.414214  \n",
       "min         550.000000  150.000000         1.000000        1.000000  \n",
       "25%         900.000000  162.500000         1.500000        1.500000  \n",
       "50%        1250.000000  175.000000         2.000000        2.000000  \n",
       "75%        1600.000000  187.500000         2.500000        2.500000  \n",
       "max        1950.000000  200.000000         3.000000        3.000000  "
      ]
     },
     "metadata": {},
     "output_type": "display_data"
    }
   ],
   "source": [
    "for name, dataset in dts.items():\n",
    "    display('Dataset: ', name)\n",
    "    display(dataset.describe())\n",
    "    display()\n",
    "    display()"
   ]
  },
  {
   "cell_type": "markdown",
   "metadata": {},
   "source": [
    "Вывод:\n",
    "\n",
    "Пропусков в данных нет (пропуск по 'churn_date' значит, что пользователь не прерывал контракт), информацию по пользователям можно агрегировать по user_id. "
   ]
  },
  {
   "cell_type": "markdown",
   "metadata": {},
   "source": [
    "### Шаг 2. Предобработка данных <a id=\"preprocessing\"></a> "
   ]
  },
  {
   "cell_type": "markdown",
   "metadata": {},
   "source": [
    "•\tПриведение данных к нужным типам\n",
    "\n",
    "С типами данных ознакомились на этапе получения общей информации. При чтении датасетов сразу парсировали данные, содержащие даты. Нареканий нет."
   ]
  },
  {
   "cell_type": "markdown",
   "metadata": {},
   "source": [
    "•\tПоиск ошибок в данных, если они есть."
   ]
  },
  {
   "cell_type": "code",
   "execution_count": 12,
   "metadata": {},
   "outputs": [
    {
     "data": {
      "text/plain": [
       "'Dataset: '"
      ]
     },
     "metadata": {},
     "output_type": "display_data"
    },
    {
     "data": {
      "text/plain": [
       "'users'"
      ]
     },
     "metadata": {},
     "output_type": "display_data"
    },
    {
     "data": {
      "text/plain": [
       "'Количество обнаруженных дубликатов:'"
      ]
     },
     "metadata": {},
     "output_type": "display_data"
    },
    {
     "data": {
      "text/plain": [
       "0"
      ]
     },
     "metadata": {},
     "output_type": "display_data"
    },
    {
     "data": {
      "text/plain": [
       "'Dataset: '"
      ]
     },
     "metadata": {},
     "output_type": "display_data"
    },
    {
     "data": {
      "text/plain": [
       "'calls'"
      ]
     },
     "metadata": {},
     "output_type": "display_data"
    },
    {
     "data": {
      "text/plain": [
       "'Количество обнаруженных дубликатов:'"
      ]
     },
     "metadata": {},
     "output_type": "display_data"
    },
    {
     "data": {
      "text/plain": [
       "0"
      ]
     },
     "metadata": {},
     "output_type": "display_data"
    },
    {
     "data": {
      "text/plain": [
       "'Dataset: '"
      ]
     },
     "metadata": {},
     "output_type": "display_data"
    },
    {
     "data": {
      "text/plain": [
       "'messages'"
      ]
     },
     "metadata": {},
     "output_type": "display_data"
    },
    {
     "data": {
      "text/plain": [
       "'Количество обнаруженных дубликатов:'"
      ]
     },
     "metadata": {},
     "output_type": "display_data"
    },
    {
     "data": {
      "text/plain": [
       "0"
      ]
     },
     "metadata": {},
     "output_type": "display_data"
    },
    {
     "data": {
      "text/plain": [
       "'Dataset: '"
      ]
     },
     "metadata": {},
     "output_type": "display_data"
    },
    {
     "data": {
      "text/plain": [
       "'internet'"
      ]
     },
     "metadata": {},
     "output_type": "display_data"
    },
    {
     "data": {
      "text/plain": [
       "'Количество обнаруженных дубликатов:'"
      ]
     },
     "metadata": {},
     "output_type": "display_data"
    },
    {
     "data": {
      "text/plain": [
       "0"
      ]
     },
     "metadata": {},
     "output_type": "display_data"
    },
    {
     "data": {
      "text/plain": [
       "'Dataset: '"
      ]
     },
     "metadata": {},
     "output_type": "display_data"
    },
    {
     "data": {
      "text/plain": [
       "'tariffs'"
      ]
     },
     "metadata": {},
     "output_type": "display_data"
    },
    {
     "data": {
      "text/plain": [
       "'Количество обнаруженных дубликатов:'"
      ]
     },
     "metadata": {},
     "output_type": "display_data"
    },
    {
     "data": {
      "text/plain": [
       "0"
      ]
     },
     "metadata": {},
     "output_type": "display_data"
    }
   ],
   "source": [
    "#смотрим дубликаты:\n",
    "\n",
    "for name, dataset in dts.items():\n",
    "    display('Dataset: ', name)\n",
    "    display('Количество обнаруженных дубликатов:', dataset.duplicated().sum())\n",
    "    display()\n",
    "    display()"
   ]
  },
  {
   "cell_type": "code",
   "execution_count": 13,
   "metadata": {
    "scrolled": true
   },
   "outputs": [
    {
     "data": {
      "text/plain": [
       "array(['Архангельск', 'Астрахань', 'Балашиха', 'Барнаул', 'Белгород',\n",
       "       'Брянск', 'Владивосток', 'Владикавказ', 'Владимир', 'Волгоград',\n",
       "       'Волжский', 'Вологда', 'Воронеж', 'Грозный', 'Екатеринбург',\n",
       "       'Иваново', 'Ижевск', 'Иркутск', 'Казань', 'Калининград', 'Калуга',\n",
       "       'Кемерово', 'Киров', 'Кострома', 'Краснодар', 'Красноярск',\n",
       "       'Курган', 'Курск', 'Липецк', 'Магнитогорск', 'Махачкала', 'Москва',\n",
       "       'Мурманск', 'Набережные Челны', 'Нижневартовск', 'Нижний Новгород',\n",
       "       'Нижний Тагил', 'Новокузнецк', 'Новороссийск', 'Новосибирск',\n",
       "       'Омск', 'Оренбург', 'Орёл', 'Пенза', 'Пермь', 'Петрозаводск',\n",
       "       'Подольск', 'Ростов-на-Дону', 'Рязань', 'Самара',\n",
       "       'Санкт-Петербург', 'Саранск', 'Саратов', 'Севастополь', 'Смоленск',\n",
       "       'Сочи', 'Ставрополь', 'Стерлитамак', 'Сургут', 'Тамбов', 'Тверь',\n",
       "       'Тольятти', 'Томск', 'Тула', 'Тюмень', 'Улан-Удэ', 'Ульяновск',\n",
       "       'Уфа', 'Хабаровск', 'Химки', 'Чебоксары', 'Челябинск', 'Череповец',\n",
       "       'Чита', 'Якутск', 'Ярославль'], dtype=object)"
      ]
     },
     "execution_count": 13,
     "metadata": {},
     "output_type": "execute_result"
    }
   ],
   "source": [
    "#уникальные значения в названиях городов (поиск скрытых дубликатов и ошибок)\n",
    "\n",
    "users['city'].sort_values().unique()"
   ]
  },
  {
   "cell_type": "markdown",
   "metadata": {},
   "source": [
    "Ошибок нет. "
   ]
  },
  {
   "cell_type": "markdown",
   "metadata": {},
   "source": [
    "Далее необходимо:\n",
    "\n",
    "Посчитать для каждого пользователя:\n",
    "\n",
    "\n",
    "•\tколичество сделанных звонков и израсходованных минут разговора по месяцам;\n",
    "\n",
    "•\tколичество отправленных сообщений по месяцам;\n",
    "\n",
    "•\tобъем израсходованного интернет-трафика по месяцам;\n",
    "\n",
    "•\tпомесячную выручку с каждого пользователя (вычесть бесплатный лимит из суммарного количества звонков, сообщений и интернет-трафика; остаток умножить на значение из тарифного плана; прибавить абонентскую плату, соответствующую тарифному плану).\n"
   ]
  },
  {
   "cell_type": "code",
   "execution_count": 14,
   "metadata": {
    "scrolled": true
   },
   "outputs": [
    {
     "data": {
      "text/plain": [
       "0          0\n",
       "1          0\n",
       "2          3\n",
       "3         14\n",
       "4          6\n",
       "          ..\n",
       "202602     1\n",
       "202603    19\n",
       "202604    11\n",
       "202605     5\n",
       "202606    20\n",
       "Name: duration, Length: 202607, dtype: int32"
      ]
     },
     "execution_count": 14,
     "metadata": {},
     "output_type": "execute_result"
    }
   ],
   "source": [
    "#Округлим минуты звонков в бо́льшую сторону:\n",
    "\n",
    "calls['duration'] = np.ceil(calls['duration']).astype(int)\n",
    "calls['duration']"
   ]
  },
  {
   "cell_type": "code",
   "execution_count": 15,
   "metadata": {},
   "outputs": [
    {
     "data": {
      "text/html": [
       "<div>\n",
       "<style scoped>\n",
       "    .dataframe tbody tr th:only-of-type {\n",
       "        vertical-align: middle;\n",
       "    }\n",
       "\n",
       "    .dataframe tbody tr th {\n",
       "        vertical-align: top;\n",
       "    }\n",
       "\n",
       "    .dataframe thead th {\n",
       "        text-align: right;\n",
       "    }\n",
       "</style>\n",
       "<table border=\"1\" class=\"dataframe\">\n",
       "  <thead>\n",
       "    <tr style=\"text-align: right;\">\n",
       "      <th></th>\n",
       "      <th>id</th>\n",
       "      <th>call_date</th>\n",
       "      <th>duration</th>\n",
       "      <th>user_id</th>\n",
       "      <th>month</th>\n",
       "    </tr>\n",
       "  </thead>\n",
       "  <tbody>\n",
       "    <tr>\n",
       "      <th>0</th>\n",
       "      <td>1000_0</td>\n",
       "      <td>2018-07-25</td>\n",
       "      <td>0</td>\n",
       "      <td>1000</td>\n",
       "      <td>2018-07-01</td>\n",
       "    </tr>\n",
       "    <tr>\n",
       "      <th>1</th>\n",
       "      <td>1000_1</td>\n",
       "      <td>2018-08-17</td>\n",
       "      <td>0</td>\n",
       "      <td>1000</td>\n",
       "      <td>2018-08-01</td>\n",
       "    </tr>\n",
       "    <tr>\n",
       "      <th>2</th>\n",
       "      <td>1000_2</td>\n",
       "      <td>2018-06-11</td>\n",
       "      <td>3</td>\n",
       "      <td>1000</td>\n",
       "      <td>2018-06-01</td>\n",
       "    </tr>\n",
       "    <tr>\n",
       "      <th>3</th>\n",
       "      <td>1000_3</td>\n",
       "      <td>2018-09-21</td>\n",
       "      <td>14</td>\n",
       "      <td>1000</td>\n",
       "      <td>2018-09-01</td>\n",
       "    </tr>\n",
       "    <tr>\n",
       "      <th>4</th>\n",
       "      <td>1000_4</td>\n",
       "      <td>2018-12-15</td>\n",
       "      <td>6</td>\n",
       "      <td>1000</td>\n",
       "      <td>2018-12-01</td>\n",
       "    </tr>\n",
       "  </tbody>\n",
       "</table>\n",
       "</div>"
      ],
      "text/plain": [
       "       id  call_date  duration  user_id      month\n",
       "0  1000_0 2018-07-25         0     1000 2018-07-01\n",
       "1  1000_1 2018-08-17         0     1000 2018-08-01\n",
       "2  1000_2 2018-06-11         3     1000 2018-06-01\n",
       "3  1000_3 2018-09-21        14     1000 2018-09-01\n",
       "4  1000_4 2018-12-15         6     1000 2018-12-01"
      ]
     },
     "execution_count": 15,
     "metadata": {},
     "output_type": "execute_result"
    }
   ],
   "source": [
    "#Выведем месяцы в отдельный столбец\n",
    "\n",
    "calls['month'] = calls['call_date'].astype('datetime64[M]') \n",
    "calls.head()"
   ]
  },
  {
   "cell_type": "code",
   "execution_count": 16,
   "metadata": {},
   "outputs": [
    {
     "data": {
      "text/html": [
       "<div>\n",
       "<style scoped>\n",
       "    .dataframe tbody tr th:only-of-type {\n",
       "        vertical-align: middle;\n",
       "    }\n",
       "\n",
       "    .dataframe tbody tr th {\n",
       "        vertical-align: top;\n",
       "    }\n",
       "\n",
       "    .dataframe thead th {\n",
       "        text-align: right;\n",
       "    }\n",
       "</style>\n",
       "<table border=\"1\" class=\"dataframe\">\n",
       "  <thead>\n",
       "    <tr style=\"text-align: right;\">\n",
       "      <th></th>\n",
       "      <th>user_id</th>\n",
       "      <th>month</th>\n",
       "      <th>calls_count</th>\n",
       "      <th>calls_duration</th>\n",
       "    </tr>\n",
       "  </thead>\n",
       "  <tbody>\n",
       "    <tr>\n",
       "      <th>0</th>\n",
       "      <td>1000</td>\n",
       "      <td>2018-05-01</td>\n",
       "      <td>22</td>\n",
       "      <td>159</td>\n",
       "    </tr>\n",
       "    <tr>\n",
       "      <th>1</th>\n",
       "      <td>1000</td>\n",
       "      <td>2018-06-01</td>\n",
       "      <td>43</td>\n",
       "      <td>172</td>\n",
       "    </tr>\n",
       "    <tr>\n",
       "      <th>2</th>\n",
       "      <td>1000</td>\n",
       "      <td>2018-07-01</td>\n",
       "      <td>47</td>\n",
       "      <td>340</td>\n",
       "    </tr>\n",
       "    <tr>\n",
       "      <th>3</th>\n",
       "      <td>1000</td>\n",
       "      <td>2018-08-01</td>\n",
       "      <td>52</td>\n",
       "      <td>408</td>\n",
       "    </tr>\n",
       "    <tr>\n",
       "      <th>4</th>\n",
       "      <td>1000</td>\n",
       "      <td>2018-09-01</td>\n",
       "      <td>58</td>\n",
       "      <td>466</td>\n",
       "    </tr>\n",
       "    <tr>\n",
       "      <th>5</th>\n",
       "      <td>1000</td>\n",
       "      <td>2018-10-01</td>\n",
       "      <td>57</td>\n",
       "      <td>350</td>\n",
       "    </tr>\n",
       "    <tr>\n",
       "      <th>6</th>\n",
       "      <td>1000</td>\n",
       "      <td>2018-11-01</td>\n",
       "      <td>43</td>\n",
       "      <td>338</td>\n",
       "    </tr>\n",
       "    <tr>\n",
       "      <th>7</th>\n",
       "      <td>1000</td>\n",
       "      <td>2018-12-01</td>\n",
       "      <td>46</td>\n",
       "      <td>333</td>\n",
       "    </tr>\n",
       "    <tr>\n",
       "      <th>8</th>\n",
       "      <td>1001</td>\n",
       "      <td>2018-11-01</td>\n",
       "      <td>59</td>\n",
       "      <td>430</td>\n",
       "    </tr>\n",
       "    <tr>\n",
       "      <th>9</th>\n",
       "      <td>1001</td>\n",
       "      <td>2018-12-01</td>\n",
       "      <td>63</td>\n",
       "      <td>414</td>\n",
       "    </tr>\n",
       "    <tr>\n",
       "      <th>10</th>\n",
       "      <td>1002</td>\n",
       "      <td>2018-06-01</td>\n",
       "      <td>15</td>\n",
       "      <td>117</td>\n",
       "    </tr>\n",
       "    <tr>\n",
       "      <th>11</th>\n",
       "      <td>1002</td>\n",
       "      <td>2018-07-01</td>\n",
       "      <td>26</td>\n",
       "      <td>214</td>\n",
       "    </tr>\n",
       "    <tr>\n",
       "      <th>12</th>\n",
       "      <td>1002</td>\n",
       "      <td>2018-08-01</td>\n",
       "      <td>42</td>\n",
       "      <td>289</td>\n",
       "    </tr>\n",
       "    <tr>\n",
       "      <th>13</th>\n",
       "      <td>1002</td>\n",
       "      <td>2018-09-01</td>\n",
       "      <td>36</td>\n",
       "      <td>206</td>\n",
       "    </tr>\n",
       "    <tr>\n",
       "      <th>14</th>\n",
       "      <td>1002</td>\n",
       "      <td>2018-10-01</td>\n",
       "      <td>33</td>\n",
       "      <td>212</td>\n",
       "    </tr>\n",
       "  </tbody>\n",
       "</table>\n",
       "</div>"
      ],
      "text/plain": [
       "    user_id      month  calls_count  calls_duration\n",
       "0      1000 2018-05-01           22             159\n",
       "1      1000 2018-06-01           43             172\n",
       "2      1000 2018-07-01           47             340\n",
       "3      1000 2018-08-01           52             408\n",
       "4      1000 2018-09-01           58             466\n",
       "5      1000 2018-10-01           57             350\n",
       "6      1000 2018-11-01           43             338\n",
       "7      1000 2018-12-01           46             333\n",
       "8      1001 2018-11-01           59             430\n",
       "9      1001 2018-12-01           63             414\n",
       "10     1002 2018-06-01           15             117\n",
       "11     1002 2018-07-01           26             214\n",
       "12     1002 2018-08-01           42             289\n",
       "13     1002 2018-09-01           36             206\n",
       "14     1002 2018-10-01           33             212"
      ]
     },
     "execution_count": 16,
     "metadata": {},
     "output_type": "execute_result"
    }
   ],
   "source": [
    "#Посчитаем количество и продолжительность звонков,\n",
    "#результат сохраним в calls accounting, сокращенно calls_acc:\n",
    "\n",
    "calls_acc = calls.pivot_table(index=['user_id','month'], values='duration', aggfunc=['count', 'sum'])\n",
    "calls_acc.columns = ['calls_count', 'calls_duration']\n",
    "calls_acc = calls_acc.fillna(0).astype(int).reset_index()\n",
    "calls_acc.head(15)"
   ]
  },
  {
   "cell_type": "markdown",
   "metadata": {},
   "source": [
    "То же проделаем для сообщений:"
   ]
  },
  {
   "cell_type": "code",
   "execution_count": 17,
   "metadata": {},
   "outputs": [
    {
     "data": {
      "text/html": [
       "<div>\n",
       "<style scoped>\n",
       "    .dataframe tbody tr th:only-of-type {\n",
       "        vertical-align: middle;\n",
       "    }\n",
       "\n",
       "    .dataframe tbody tr th {\n",
       "        vertical-align: top;\n",
       "    }\n",
       "\n",
       "    .dataframe thead th {\n",
       "        text-align: right;\n",
       "    }\n",
       "</style>\n",
       "<table border=\"1\" class=\"dataframe\">\n",
       "  <thead>\n",
       "    <tr style=\"text-align: right;\">\n",
       "      <th></th>\n",
       "      <th>user_id</th>\n",
       "      <th>month</th>\n",
       "      <th>messages_count</th>\n",
       "    </tr>\n",
       "  </thead>\n",
       "  <tbody>\n",
       "    <tr>\n",
       "      <th>0</th>\n",
       "      <td>1000</td>\n",
       "      <td>2018-05-01</td>\n",
       "      <td>22</td>\n",
       "    </tr>\n",
       "    <tr>\n",
       "      <th>1</th>\n",
       "      <td>1000</td>\n",
       "      <td>2018-06-01</td>\n",
       "      <td>60</td>\n",
       "    </tr>\n",
       "    <tr>\n",
       "      <th>2</th>\n",
       "      <td>1000</td>\n",
       "      <td>2018-07-01</td>\n",
       "      <td>75</td>\n",
       "    </tr>\n",
       "    <tr>\n",
       "      <th>3</th>\n",
       "      <td>1000</td>\n",
       "      <td>2018-08-01</td>\n",
       "      <td>81</td>\n",
       "    </tr>\n",
       "    <tr>\n",
       "      <th>4</th>\n",
       "      <td>1000</td>\n",
       "      <td>2018-09-01</td>\n",
       "      <td>57</td>\n",
       "    </tr>\n",
       "    <tr>\n",
       "      <th>5</th>\n",
       "      <td>1000</td>\n",
       "      <td>2018-10-01</td>\n",
       "      <td>73</td>\n",
       "    </tr>\n",
       "    <tr>\n",
       "      <th>6</th>\n",
       "      <td>1000</td>\n",
       "      <td>2018-11-01</td>\n",
       "      <td>58</td>\n",
       "    </tr>\n",
       "    <tr>\n",
       "      <th>7</th>\n",
       "      <td>1000</td>\n",
       "      <td>2018-12-01</td>\n",
       "      <td>70</td>\n",
       "    </tr>\n",
       "    <tr>\n",
       "      <th>8</th>\n",
       "      <td>1002</td>\n",
       "      <td>2018-06-01</td>\n",
       "      <td>4</td>\n",
       "    </tr>\n",
       "    <tr>\n",
       "      <th>9</th>\n",
       "      <td>1002</td>\n",
       "      <td>2018-07-01</td>\n",
       "      <td>11</td>\n",
       "    </tr>\n",
       "    <tr>\n",
       "      <th>10</th>\n",
       "      <td>1002</td>\n",
       "      <td>2018-08-01</td>\n",
       "      <td>13</td>\n",
       "    </tr>\n",
       "    <tr>\n",
       "      <th>11</th>\n",
       "      <td>1002</td>\n",
       "      <td>2018-09-01</td>\n",
       "      <td>4</td>\n",
       "    </tr>\n",
       "    <tr>\n",
       "      <th>12</th>\n",
       "      <td>1002</td>\n",
       "      <td>2018-10-01</td>\n",
       "      <td>10</td>\n",
       "    </tr>\n",
       "    <tr>\n",
       "      <th>13</th>\n",
       "      <td>1002</td>\n",
       "      <td>2018-11-01</td>\n",
       "      <td>16</td>\n",
       "    </tr>\n",
       "    <tr>\n",
       "      <th>14</th>\n",
       "      <td>1002</td>\n",
       "      <td>2018-12-01</td>\n",
       "      <td>12</td>\n",
       "    </tr>\n",
       "  </tbody>\n",
       "</table>\n",
       "</div>"
      ],
      "text/plain": [
       "    user_id      month  messages_count\n",
       "0      1000 2018-05-01              22\n",
       "1      1000 2018-06-01              60\n",
       "2      1000 2018-07-01              75\n",
       "3      1000 2018-08-01              81\n",
       "4      1000 2018-09-01              57\n",
       "5      1000 2018-10-01              73\n",
       "6      1000 2018-11-01              58\n",
       "7      1000 2018-12-01              70\n",
       "8      1002 2018-06-01               4\n",
       "9      1002 2018-07-01              11\n",
       "10     1002 2018-08-01              13\n",
       "11     1002 2018-09-01               4\n",
       "12     1002 2018-10-01              10\n",
       "13     1002 2018-11-01              16\n",
       "14     1002 2018-12-01              12"
      ]
     },
     "execution_count": 17,
     "metadata": {},
     "output_type": "execute_result"
    }
   ],
   "source": [
    "messages['month'] = messages['message_date'].astype('datetime64[M]') \n",
    "messages_acc = messages.pivot_table(index=['user_id', 'month'], values='message_date', aggfunc='count')\n",
    "messages_acc.columns = ['messages_count']\n",
    "messages_acc = messages_acc.fillna(0).astype(int).reset_index()\n",
    "messages_acc.head(15)"
   ]
  },
  {
   "cell_type": "markdown",
   "metadata": {},
   "source": [
    "И для израсходованного интернет-трафика:"
   ]
  },
  {
   "cell_type": "code",
   "execution_count": 18,
   "metadata": {},
   "outputs": [
    {
     "data": {
      "text/html": [
       "<div>\n",
       "<style scoped>\n",
       "    .dataframe tbody tr th:only-of-type {\n",
       "        vertical-align: middle;\n",
       "    }\n",
       "\n",
       "    .dataframe tbody tr th {\n",
       "        vertical-align: top;\n",
       "    }\n",
       "\n",
       "    .dataframe thead th {\n",
       "        text-align: right;\n",
       "    }\n",
       "</style>\n",
       "<table border=\"1\" class=\"dataframe\">\n",
       "  <thead>\n",
       "    <tr style=\"text-align: right;\">\n",
       "      <th></th>\n",
       "      <th>user_id</th>\n",
       "      <th>month</th>\n",
       "      <th>mb_traffic_count</th>\n",
       "    </tr>\n",
       "  </thead>\n",
       "  <tbody>\n",
       "    <tr>\n",
       "      <th>0</th>\n",
       "      <td>1000</td>\n",
       "      <td>2018-05-01</td>\n",
       "      <td>2253</td>\n",
       "    </tr>\n",
       "    <tr>\n",
       "      <th>1</th>\n",
       "      <td>1000</td>\n",
       "      <td>2018-06-01</td>\n",
       "      <td>23233</td>\n",
       "    </tr>\n",
       "    <tr>\n",
       "      <th>2</th>\n",
       "      <td>1000</td>\n",
       "      <td>2018-07-01</td>\n",
       "      <td>14003</td>\n",
       "    </tr>\n",
       "    <tr>\n",
       "      <th>3</th>\n",
       "      <td>1000</td>\n",
       "      <td>2018-08-01</td>\n",
       "      <td>14055</td>\n",
       "    </tr>\n",
       "    <tr>\n",
       "      <th>4</th>\n",
       "      <td>1000</td>\n",
       "      <td>2018-09-01</td>\n",
       "      <td>14568</td>\n",
       "    </tr>\n",
       "    <tr>\n",
       "      <th>5</th>\n",
       "      <td>1000</td>\n",
       "      <td>2018-10-01</td>\n",
       "      <td>14702</td>\n",
       "    </tr>\n",
       "    <tr>\n",
       "      <th>6</th>\n",
       "      <td>1000</td>\n",
       "      <td>2018-11-01</td>\n",
       "      <td>14756</td>\n",
       "    </tr>\n",
       "    <tr>\n",
       "      <th>7</th>\n",
       "      <td>1000</td>\n",
       "      <td>2018-12-01</td>\n",
       "      <td>9817</td>\n",
       "    </tr>\n",
       "    <tr>\n",
       "      <th>8</th>\n",
       "      <td>1001</td>\n",
       "      <td>2018-11-01</td>\n",
       "      <td>18429</td>\n",
       "    </tr>\n",
       "    <tr>\n",
       "      <th>9</th>\n",
       "      <td>1001</td>\n",
       "      <td>2018-12-01</td>\n",
       "      <td>14036</td>\n",
       "    </tr>\n",
       "    <tr>\n",
       "      <th>10</th>\n",
       "      <td>1002</td>\n",
       "      <td>2018-06-01</td>\n",
       "      <td>10856</td>\n",
       "    </tr>\n",
       "    <tr>\n",
       "      <th>11</th>\n",
       "      <td>1002</td>\n",
       "      <td>2018-07-01</td>\n",
       "      <td>17580</td>\n",
       "    </tr>\n",
       "    <tr>\n",
       "      <th>12</th>\n",
       "      <td>1002</td>\n",
       "      <td>2018-08-01</td>\n",
       "      <td>20319</td>\n",
       "    </tr>\n",
       "    <tr>\n",
       "      <th>13</th>\n",
       "      <td>1002</td>\n",
       "      <td>2018-09-01</td>\n",
       "      <td>16691</td>\n",
       "    </tr>\n",
       "    <tr>\n",
       "      <th>14</th>\n",
       "      <td>1002</td>\n",
       "      <td>2018-10-01</td>\n",
       "      <td>13888</td>\n",
       "    </tr>\n",
       "  </tbody>\n",
       "</table>\n",
       "</div>"
      ],
      "text/plain": [
       "    user_id      month  mb_traffic_count\n",
       "0      1000 2018-05-01              2253\n",
       "1      1000 2018-06-01             23233\n",
       "2      1000 2018-07-01             14003\n",
       "3      1000 2018-08-01             14055\n",
       "4      1000 2018-09-01             14568\n",
       "5      1000 2018-10-01             14702\n",
       "6      1000 2018-11-01             14756\n",
       "7      1000 2018-12-01              9817\n",
       "8      1001 2018-11-01             18429\n",
       "9      1001 2018-12-01             14036\n",
       "10     1002 2018-06-01             10856\n",
       "11     1002 2018-07-01             17580\n",
       "12     1002 2018-08-01             20319\n",
       "13     1002 2018-09-01             16691\n",
       "14     1002 2018-10-01             13888"
      ]
     },
     "execution_count": 18,
     "metadata": {},
     "output_type": "execute_result"
    }
   ],
   "source": [
    "internet['month'] = internet['session_date'].astype('datetime64[M]') \n",
    "internet_acc = internet.pivot_table(index=['user_id','month'], values='mb_used', aggfunc='sum')\n",
    "internet_acc.columns = ['mb_traffic_count']\n",
    "internet_acc = internet_acc.fillna(0).astype(int).reset_index()\n",
    "internet_acc.head(15)"
   ]
  },
  {
   "cell_type": "markdown",
   "metadata": {},
   "source": [
    "Теперь склеим все таблицы:"
   ]
  },
  {
   "cell_type": "code",
   "execution_count": 19,
   "metadata": {},
   "outputs": [
    {
     "data": {
      "text/html": [
       "<div>\n",
       "<style scoped>\n",
       "    .dataframe tbody tr th:only-of-type {\n",
       "        vertical-align: middle;\n",
       "    }\n",
       "\n",
       "    .dataframe tbody tr th {\n",
       "        vertical-align: top;\n",
       "    }\n",
       "\n",
       "    .dataframe thead th {\n",
       "        text-align: right;\n",
       "    }\n",
       "</style>\n",
       "<table border=\"1\" class=\"dataframe\">\n",
       "  <thead>\n",
       "    <tr style=\"text-align: right;\">\n",
       "      <th></th>\n",
       "      <th>user_id</th>\n",
       "      <th>month</th>\n",
       "      <th>calls_count</th>\n",
       "      <th>calls_duration</th>\n",
       "      <th>messages_count</th>\n",
       "      <th>mb_traffic_count</th>\n",
       "    </tr>\n",
       "  </thead>\n",
       "  <tbody>\n",
       "    <tr>\n",
       "      <th>0</th>\n",
       "      <td>1000</td>\n",
       "      <td>2018-05-01</td>\n",
       "      <td>22.0</td>\n",
       "      <td>159.0</td>\n",
       "      <td>22.0</td>\n",
       "      <td>2253.0</td>\n",
       "    </tr>\n",
       "    <tr>\n",
       "      <th>1</th>\n",
       "      <td>1000</td>\n",
       "      <td>2018-06-01</td>\n",
       "      <td>43.0</td>\n",
       "      <td>172.0</td>\n",
       "      <td>60.0</td>\n",
       "      <td>23233.0</td>\n",
       "    </tr>\n",
       "    <tr>\n",
       "      <th>2</th>\n",
       "      <td>1000</td>\n",
       "      <td>2018-07-01</td>\n",
       "      <td>47.0</td>\n",
       "      <td>340.0</td>\n",
       "      <td>75.0</td>\n",
       "      <td>14003.0</td>\n",
       "    </tr>\n",
       "    <tr>\n",
       "      <th>3</th>\n",
       "      <td>1000</td>\n",
       "      <td>2018-08-01</td>\n",
       "      <td>52.0</td>\n",
       "      <td>408.0</td>\n",
       "      <td>81.0</td>\n",
       "      <td>14055.0</td>\n",
       "    </tr>\n",
       "    <tr>\n",
       "      <th>4</th>\n",
       "      <td>1000</td>\n",
       "      <td>2018-09-01</td>\n",
       "      <td>58.0</td>\n",
       "      <td>466.0</td>\n",
       "      <td>57.0</td>\n",
       "      <td>14568.0</td>\n",
       "    </tr>\n",
       "    <tr>\n",
       "      <th>5</th>\n",
       "      <td>1000</td>\n",
       "      <td>2018-10-01</td>\n",
       "      <td>57.0</td>\n",
       "      <td>350.0</td>\n",
       "      <td>73.0</td>\n",
       "      <td>14702.0</td>\n",
       "    </tr>\n",
       "    <tr>\n",
       "      <th>6</th>\n",
       "      <td>1000</td>\n",
       "      <td>2018-11-01</td>\n",
       "      <td>43.0</td>\n",
       "      <td>338.0</td>\n",
       "      <td>58.0</td>\n",
       "      <td>14756.0</td>\n",
       "    </tr>\n",
       "    <tr>\n",
       "      <th>7</th>\n",
       "      <td>1000</td>\n",
       "      <td>2018-12-01</td>\n",
       "      <td>46.0</td>\n",
       "      <td>333.0</td>\n",
       "      <td>70.0</td>\n",
       "      <td>9817.0</td>\n",
       "    </tr>\n",
       "    <tr>\n",
       "      <th>8</th>\n",
       "      <td>1001</td>\n",
       "      <td>2018-11-01</td>\n",
       "      <td>59.0</td>\n",
       "      <td>430.0</td>\n",
       "      <td>NaN</td>\n",
       "      <td>18429.0</td>\n",
       "    </tr>\n",
       "    <tr>\n",
       "      <th>9</th>\n",
       "      <td>1001</td>\n",
       "      <td>2018-12-01</td>\n",
       "      <td>63.0</td>\n",
       "      <td>414.0</td>\n",
       "      <td>NaN</td>\n",
       "      <td>14036.0</td>\n",
       "    </tr>\n",
       "    <tr>\n",
       "      <th>10</th>\n",
       "      <td>1002</td>\n",
       "      <td>2018-06-01</td>\n",
       "      <td>15.0</td>\n",
       "      <td>117.0</td>\n",
       "      <td>4.0</td>\n",
       "      <td>10856.0</td>\n",
       "    </tr>\n",
       "    <tr>\n",
       "      <th>11</th>\n",
       "      <td>1002</td>\n",
       "      <td>2018-07-01</td>\n",
       "      <td>26.0</td>\n",
       "      <td>214.0</td>\n",
       "      <td>11.0</td>\n",
       "      <td>17580.0</td>\n",
       "    </tr>\n",
       "    <tr>\n",
       "      <th>12</th>\n",
       "      <td>1002</td>\n",
       "      <td>2018-08-01</td>\n",
       "      <td>42.0</td>\n",
       "      <td>289.0</td>\n",
       "      <td>13.0</td>\n",
       "      <td>20319.0</td>\n",
       "    </tr>\n",
       "    <tr>\n",
       "      <th>13</th>\n",
       "      <td>1002</td>\n",
       "      <td>2018-09-01</td>\n",
       "      <td>36.0</td>\n",
       "      <td>206.0</td>\n",
       "      <td>4.0</td>\n",
       "      <td>16691.0</td>\n",
       "    </tr>\n",
       "    <tr>\n",
       "      <th>14</th>\n",
       "      <td>1002</td>\n",
       "      <td>2018-10-01</td>\n",
       "      <td>33.0</td>\n",
       "      <td>212.0</td>\n",
       "      <td>10.0</td>\n",
       "      <td>13888.0</td>\n",
       "    </tr>\n",
       "  </tbody>\n",
       "</table>\n",
       "</div>"
      ],
      "text/plain": [
       "    user_id      month  calls_count  calls_duration  messages_count  \\\n",
       "0      1000 2018-05-01         22.0           159.0            22.0   \n",
       "1      1000 2018-06-01         43.0           172.0            60.0   \n",
       "2      1000 2018-07-01         47.0           340.0            75.0   \n",
       "3      1000 2018-08-01         52.0           408.0            81.0   \n",
       "4      1000 2018-09-01         58.0           466.0            57.0   \n",
       "5      1000 2018-10-01         57.0           350.0            73.0   \n",
       "6      1000 2018-11-01         43.0           338.0            58.0   \n",
       "7      1000 2018-12-01         46.0           333.0            70.0   \n",
       "8      1001 2018-11-01         59.0           430.0             NaN   \n",
       "9      1001 2018-12-01         63.0           414.0             NaN   \n",
       "10     1002 2018-06-01         15.0           117.0             4.0   \n",
       "11     1002 2018-07-01         26.0           214.0            11.0   \n",
       "12     1002 2018-08-01         42.0           289.0            13.0   \n",
       "13     1002 2018-09-01         36.0           206.0             4.0   \n",
       "14     1002 2018-10-01         33.0           212.0            10.0   \n",
       "\n",
       "    mb_traffic_count  \n",
       "0             2253.0  \n",
       "1            23233.0  \n",
       "2            14003.0  \n",
       "3            14055.0  \n",
       "4            14568.0  \n",
       "5            14702.0  \n",
       "6            14756.0  \n",
       "7             9817.0  \n",
       "8            18429.0  \n",
       "9            14036.0  \n",
       "10           10856.0  \n",
       "11           17580.0  \n",
       "12           20319.0  \n",
       "13           16691.0  \n",
       "14           13888.0  "
      ]
     },
     "execution_count": 19,
     "metadata": {},
     "output_type": "execute_result"
    }
   ],
   "source": [
    "data1 = calls_acc.merge(messages_acc, on=['user_id', 'month'], how='outer')\n",
    "data_pivot = data1.merge(internet_acc, on=['user_id', 'month'], how='outer')\n",
    "# data_pivot = data_pivot.fillna(0).astype(int)\n",
    "data_pivot.head(15)                                     #большая сводная таблица звонков, сообщений и израсходованного траффика   "
   ]
  },
  {
   "cell_type": "code",
   "execution_count": 20,
   "metadata": {},
   "outputs": [],
   "source": [
    "#Чтобы можно было склеить большую сводную с таблицами пользователей и тарифов, приведем наименования столбцов к одному общему:\n",
    "\n",
    "tariffs.rename(columns={'tariff_name': 'tariff'}, inplace=True)"
   ]
  },
  {
   "cell_type": "code",
   "execution_count": 21,
   "metadata": {
    "scrolled": false
   },
   "outputs": [
    {
     "data": {
      "text/html": [
       "<div>\n",
       "<style scoped>\n",
       "    .dataframe tbody tr th:only-of-type {\n",
       "        vertical-align: middle;\n",
       "    }\n",
       "\n",
       "    .dataframe tbody tr th {\n",
       "        vertical-align: top;\n",
       "    }\n",
       "\n",
       "    .dataframe thead th {\n",
       "        text-align: right;\n",
       "    }\n",
       "</style>\n",
       "<table border=\"1\" class=\"dataframe\">\n",
       "  <thead>\n",
       "    <tr style=\"text-align: right;\">\n",
       "      <th></th>\n",
       "      <th>user_id</th>\n",
       "      <th>month</th>\n",
       "      <th>calls_count</th>\n",
       "      <th>calls_duration</th>\n",
       "      <th>messages_count</th>\n",
       "      <th>mb_traffic_count</th>\n",
       "      <th>age</th>\n",
       "      <th>churn_date</th>\n",
       "      <th>city</th>\n",
       "      <th>first_name</th>\n",
       "      <th>last_name</th>\n",
       "      <th>reg_date</th>\n",
       "      <th>tariff</th>\n",
       "      <th>messages_included</th>\n",
       "      <th>mb_per_month_included</th>\n",
       "      <th>minutes_included</th>\n",
       "      <th>rub_monthly_fee</th>\n",
       "      <th>rub_per_gb</th>\n",
       "      <th>rub_per_message</th>\n",
       "      <th>rub_per_minute</th>\n",
       "    </tr>\n",
       "  </thead>\n",
       "  <tbody>\n",
       "    <tr>\n",
       "      <th>0</th>\n",
       "      <td>1000</td>\n",
       "      <td>2018-05-01</td>\n",
       "      <td>22.0</td>\n",
       "      <td>159.0</td>\n",
       "      <td>22.0</td>\n",
       "      <td>2253.0</td>\n",
       "      <td>52</td>\n",
       "      <td>NaT</td>\n",
       "      <td>Краснодар</td>\n",
       "      <td>Рафаил</td>\n",
       "      <td>Верещагин</td>\n",
       "      <td>2018-05-25</td>\n",
       "      <td>ultra</td>\n",
       "      <td>1000</td>\n",
       "      <td>30720</td>\n",
       "      <td>3000</td>\n",
       "      <td>1950</td>\n",
       "      <td>150</td>\n",
       "      <td>1</td>\n",
       "      <td>1</td>\n",
       "    </tr>\n",
       "    <tr>\n",
       "      <th>1</th>\n",
       "      <td>1000</td>\n",
       "      <td>2018-06-01</td>\n",
       "      <td>43.0</td>\n",
       "      <td>172.0</td>\n",
       "      <td>60.0</td>\n",
       "      <td>23233.0</td>\n",
       "      <td>52</td>\n",
       "      <td>NaT</td>\n",
       "      <td>Краснодар</td>\n",
       "      <td>Рафаил</td>\n",
       "      <td>Верещагин</td>\n",
       "      <td>2018-05-25</td>\n",
       "      <td>ultra</td>\n",
       "      <td>1000</td>\n",
       "      <td>30720</td>\n",
       "      <td>3000</td>\n",
       "      <td>1950</td>\n",
       "      <td>150</td>\n",
       "      <td>1</td>\n",
       "      <td>1</td>\n",
       "    </tr>\n",
       "    <tr>\n",
       "      <th>2</th>\n",
       "      <td>1000</td>\n",
       "      <td>2018-07-01</td>\n",
       "      <td>47.0</td>\n",
       "      <td>340.0</td>\n",
       "      <td>75.0</td>\n",
       "      <td>14003.0</td>\n",
       "      <td>52</td>\n",
       "      <td>NaT</td>\n",
       "      <td>Краснодар</td>\n",
       "      <td>Рафаил</td>\n",
       "      <td>Верещагин</td>\n",
       "      <td>2018-05-25</td>\n",
       "      <td>ultra</td>\n",
       "      <td>1000</td>\n",
       "      <td>30720</td>\n",
       "      <td>3000</td>\n",
       "      <td>1950</td>\n",
       "      <td>150</td>\n",
       "      <td>1</td>\n",
       "      <td>1</td>\n",
       "    </tr>\n",
       "    <tr>\n",
       "      <th>3</th>\n",
       "      <td>1000</td>\n",
       "      <td>2018-08-01</td>\n",
       "      <td>52.0</td>\n",
       "      <td>408.0</td>\n",
       "      <td>81.0</td>\n",
       "      <td>14055.0</td>\n",
       "      <td>52</td>\n",
       "      <td>NaT</td>\n",
       "      <td>Краснодар</td>\n",
       "      <td>Рафаил</td>\n",
       "      <td>Верещагин</td>\n",
       "      <td>2018-05-25</td>\n",
       "      <td>ultra</td>\n",
       "      <td>1000</td>\n",
       "      <td>30720</td>\n",
       "      <td>3000</td>\n",
       "      <td>1950</td>\n",
       "      <td>150</td>\n",
       "      <td>1</td>\n",
       "      <td>1</td>\n",
       "    </tr>\n",
       "    <tr>\n",
       "      <th>4</th>\n",
       "      <td>1000</td>\n",
       "      <td>2018-09-01</td>\n",
       "      <td>58.0</td>\n",
       "      <td>466.0</td>\n",
       "      <td>57.0</td>\n",
       "      <td>14568.0</td>\n",
       "      <td>52</td>\n",
       "      <td>NaT</td>\n",
       "      <td>Краснодар</td>\n",
       "      <td>Рафаил</td>\n",
       "      <td>Верещагин</td>\n",
       "      <td>2018-05-25</td>\n",
       "      <td>ultra</td>\n",
       "      <td>1000</td>\n",
       "      <td>30720</td>\n",
       "      <td>3000</td>\n",
       "      <td>1950</td>\n",
       "      <td>150</td>\n",
       "      <td>1</td>\n",
       "      <td>1</td>\n",
       "    </tr>\n",
       "    <tr>\n",
       "      <th>5</th>\n",
       "      <td>1000</td>\n",
       "      <td>2018-10-01</td>\n",
       "      <td>57.0</td>\n",
       "      <td>350.0</td>\n",
       "      <td>73.0</td>\n",
       "      <td>14702.0</td>\n",
       "      <td>52</td>\n",
       "      <td>NaT</td>\n",
       "      <td>Краснодар</td>\n",
       "      <td>Рафаил</td>\n",
       "      <td>Верещагин</td>\n",
       "      <td>2018-05-25</td>\n",
       "      <td>ultra</td>\n",
       "      <td>1000</td>\n",
       "      <td>30720</td>\n",
       "      <td>3000</td>\n",
       "      <td>1950</td>\n",
       "      <td>150</td>\n",
       "      <td>1</td>\n",
       "      <td>1</td>\n",
       "    </tr>\n",
       "    <tr>\n",
       "      <th>6</th>\n",
       "      <td>1000</td>\n",
       "      <td>2018-11-01</td>\n",
       "      <td>43.0</td>\n",
       "      <td>338.0</td>\n",
       "      <td>58.0</td>\n",
       "      <td>14756.0</td>\n",
       "      <td>52</td>\n",
       "      <td>NaT</td>\n",
       "      <td>Краснодар</td>\n",
       "      <td>Рафаил</td>\n",
       "      <td>Верещагин</td>\n",
       "      <td>2018-05-25</td>\n",
       "      <td>ultra</td>\n",
       "      <td>1000</td>\n",
       "      <td>30720</td>\n",
       "      <td>3000</td>\n",
       "      <td>1950</td>\n",
       "      <td>150</td>\n",
       "      <td>1</td>\n",
       "      <td>1</td>\n",
       "    </tr>\n",
       "    <tr>\n",
       "      <th>7</th>\n",
       "      <td>1000</td>\n",
       "      <td>2018-12-01</td>\n",
       "      <td>46.0</td>\n",
       "      <td>333.0</td>\n",
       "      <td>70.0</td>\n",
       "      <td>9817.0</td>\n",
       "      <td>52</td>\n",
       "      <td>NaT</td>\n",
       "      <td>Краснодар</td>\n",
       "      <td>Рафаил</td>\n",
       "      <td>Верещагин</td>\n",
       "      <td>2018-05-25</td>\n",
       "      <td>ultra</td>\n",
       "      <td>1000</td>\n",
       "      <td>30720</td>\n",
       "      <td>3000</td>\n",
       "      <td>1950</td>\n",
       "      <td>150</td>\n",
       "      <td>1</td>\n",
       "      <td>1</td>\n",
       "    </tr>\n",
       "    <tr>\n",
       "      <th>8</th>\n",
       "      <td>1001</td>\n",
       "      <td>2018-11-01</td>\n",
       "      <td>59.0</td>\n",
       "      <td>430.0</td>\n",
       "      <td>NaN</td>\n",
       "      <td>18429.0</td>\n",
       "      <td>41</td>\n",
       "      <td>NaT</td>\n",
       "      <td>Москва</td>\n",
       "      <td>Иван</td>\n",
       "      <td>Ежов</td>\n",
       "      <td>2018-11-01</td>\n",
       "      <td>smart</td>\n",
       "      <td>50</td>\n",
       "      <td>15360</td>\n",
       "      <td>500</td>\n",
       "      <td>550</td>\n",
       "      <td>200</td>\n",
       "      <td>3</td>\n",
       "      <td>3</td>\n",
       "    </tr>\n",
       "    <tr>\n",
       "      <th>9</th>\n",
       "      <td>1001</td>\n",
       "      <td>2018-12-01</td>\n",
       "      <td>63.0</td>\n",
       "      <td>414.0</td>\n",
       "      <td>NaN</td>\n",
       "      <td>14036.0</td>\n",
       "      <td>41</td>\n",
       "      <td>NaT</td>\n",
       "      <td>Москва</td>\n",
       "      <td>Иван</td>\n",
       "      <td>Ежов</td>\n",
       "      <td>2018-11-01</td>\n",
       "      <td>smart</td>\n",
       "      <td>50</td>\n",
       "      <td>15360</td>\n",
       "      <td>500</td>\n",
       "      <td>550</td>\n",
       "      <td>200</td>\n",
       "      <td>3</td>\n",
       "      <td>3</td>\n",
       "    </tr>\n",
       "    <tr>\n",
       "      <th>10</th>\n",
       "      <td>1002</td>\n",
       "      <td>2018-06-01</td>\n",
       "      <td>15.0</td>\n",
       "      <td>117.0</td>\n",
       "      <td>4.0</td>\n",
       "      <td>10856.0</td>\n",
       "      <td>59</td>\n",
       "      <td>NaT</td>\n",
       "      <td>Стерлитамак</td>\n",
       "      <td>Евгений</td>\n",
       "      <td>Абрамович</td>\n",
       "      <td>2018-06-17</td>\n",
       "      <td>smart</td>\n",
       "      <td>50</td>\n",
       "      <td>15360</td>\n",
       "      <td>500</td>\n",
       "      <td>550</td>\n",
       "      <td>200</td>\n",
       "      <td>3</td>\n",
       "      <td>3</td>\n",
       "    </tr>\n",
       "    <tr>\n",
       "      <th>11</th>\n",
       "      <td>1002</td>\n",
       "      <td>2018-07-01</td>\n",
       "      <td>26.0</td>\n",
       "      <td>214.0</td>\n",
       "      <td>11.0</td>\n",
       "      <td>17580.0</td>\n",
       "      <td>59</td>\n",
       "      <td>NaT</td>\n",
       "      <td>Стерлитамак</td>\n",
       "      <td>Евгений</td>\n",
       "      <td>Абрамович</td>\n",
       "      <td>2018-06-17</td>\n",
       "      <td>smart</td>\n",
       "      <td>50</td>\n",
       "      <td>15360</td>\n",
       "      <td>500</td>\n",
       "      <td>550</td>\n",
       "      <td>200</td>\n",
       "      <td>3</td>\n",
       "      <td>3</td>\n",
       "    </tr>\n",
       "    <tr>\n",
       "      <th>12</th>\n",
       "      <td>1002</td>\n",
       "      <td>2018-08-01</td>\n",
       "      <td>42.0</td>\n",
       "      <td>289.0</td>\n",
       "      <td>13.0</td>\n",
       "      <td>20319.0</td>\n",
       "      <td>59</td>\n",
       "      <td>NaT</td>\n",
       "      <td>Стерлитамак</td>\n",
       "      <td>Евгений</td>\n",
       "      <td>Абрамович</td>\n",
       "      <td>2018-06-17</td>\n",
       "      <td>smart</td>\n",
       "      <td>50</td>\n",
       "      <td>15360</td>\n",
       "      <td>500</td>\n",
       "      <td>550</td>\n",
       "      <td>200</td>\n",
       "      <td>3</td>\n",
       "      <td>3</td>\n",
       "    </tr>\n",
       "    <tr>\n",
       "      <th>13</th>\n",
       "      <td>1002</td>\n",
       "      <td>2018-09-01</td>\n",
       "      <td>36.0</td>\n",
       "      <td>206.0</td>\n",
       "      <td>4.0</td>\n",
       "      <td>16691.0</td>\n",
       "      <td>59</td>\n",
       "      <td>NaT</td>\n",
       "      <td>Стерлитамак</td>\n",
       "      <td>Евгений</td>\n",
       "      <td>Абрамович</td>\n",
       "      <td>2018-06-17</td>\n",
       "      <td>smart</td>\n",
       "      <td>50</td>\n",
       "      <td>15360</td>\n",
       "      <td>500</td>\n",
       "      <td>550</td>\n",
       "      <td>200</td>\n",
       "      <td>3</td>\n",
       "      <td>3</td>\n",
       "    </tr>\n",
       "    <tr>\n",
       "      <th>14</th>\n",
       "      <td>1002</td>\n",
       "      <td>2018-10-01</td>\n",
       "      <td>33.0</td>\n",
       "      <td>212.0</td>\n",
       "      <td>10.0</td>\n",
       "      <td>13888.0</td>\n",
       "      <td>59</td>\n",
       "      <td>NaT</td>\n",
       "      <td>Стерлитамак</td>\n",
       "      <td>Евгений</td>\n",
       "      <td>Абрамович</td>\n",
       "      <td>2018-06-17</td>\n",
       "      <td>smart</td>\n",
       "      <td>50</td>\n",
       "      <td>15360</td>\n",
       "      <td>500</td>\n",
       "      <td>550</td>\n",
       "      <td>200</td>\n",
       "      <td>3</td>\n",
       "      <td>3</td>\n",
       "    </tr>\n",
       "  </tbody>\n",
       "</table>\n",
       "</div>"
      ],
      "text/plain": [
       "    user_id      month  calls_count  calls_duration  messages_count  \\\n",
       "0      1000 2018-05-01         22.0           159.0            22.0   \n",
       "1      1000 2018-06-01         43.0           172.0            60.0   \n",
       "2      1000 2018-07-01         47.0           340.0            75.0   \n",
       "3      1000 2018-08-01         52.0           408.0            81.0   \n",
       "4      1000 2018-09-01         58.0           466.0            57.0   \n",
       "5      1000 2018-10-01         57.0           350.0            73.0   \n",
       "6      1000 2018-11-01         43.0           338.0            58.0   \n",
       "7      1000 2018-12-01         46.0           333.0            70.0   \n",
       "8      1001 2018-11-01         59.0           430.0             NaN   \n",
       "9      1001 2018-12-01         63.0           414.0             NaN   \n",
       "10     1002 2018-06-01         15.0           117.0             4.0   \n",
       "11     1002 2018-07-01         26.0           214.0            11.0   \n",
       "12     1002 2018-08-01         42.0           289.0            13.0   \n",
       "13     1002 2018-09-01         36.0           206.0             4.0   \n",
       "14     1002 2018-10-01         33.0           212.0            10.0   \n",
       "\n",
       "    mb_traffic_count  age churn_date         city first_name  last_name  \\\n",
       "0             2253.0   52        NaT    Краснодар     Рафаил  Верещагин   \n",
       "1            23233.0   52        NaT    Краснодар     Рафаил  Верещагин   \n",
       "2            14003.0   52        NaT    Краснодар     Рафаил  Верещагин   \n",
       "3            14055.0   52        NaT    Краснодар     Рафаил  Верещагин   \n",
       "4            14568.0   52        NaT    Краснодар     Рафаил  Верещагин   \n",
       "5            14702.0   52        NaT    Краснодар     Рафаил  Верещагин   \n",
       "6            14756.0   52        NaT    Краснодар     Рафаил  Верещагин   \n",
       "7             9817.0   52        NaT    Краснодар     Рафаил  Верещагин   \n",
       "8            18429.0   41        NaT       Москва       Иван       Ежов   \n",
       "9            14036.0   41        NaT       Москва       Иван       Ежов   \n",
       "10           10856.0   59        NaT  Стерлитамак    Евгений  Абрамович   \n",
       "11           17580.0   59        NaT  Стерлитамак    Евгений  Абрамович   \n",
       "12           20319.0   59        NaT  Стерлитамак    Евгений  Абрамович   \n",
       "13           16691.0   59        NaT  Стерлитамак    Евгений  Абрамович   \n",
       "14           13888.0   59        NaT  Стерлитамак    Евгений  Абрамович   \n",
       "\n",
       "     reg_date tariff  messages_included  mb_per_month_included  \\\n",
       "0  2018-05-25  ultra               1000                  30720   \n",
       "1  2018-05-25  ultra               1000                  30720   \n",
       "2  2018-05-25  ultra               1000                  30720   \n",
       "3  2018-05-25  ultra               1000                  30720   \n",
       "4  2018-05-25  ultra               1000                  30720   \n",
       "5  2018-05-25  ultra               1000                  30720   \n",
       "6  2018-05-25  ultra               1000                  30720   \n",
       "7  2018-05-25  ultra               1000                  30720   \n",
       "8  2018-11-01  smart                 50                  15360   \n",
       "9  2018-11-01  smart                 50                  15360   \n",
       "10 2018-06-17  smart                 50                  15360   \n",
       "11 2018-06-17  smart                 50                  15360   \n",
       "12 2018-06-17  smart                 50                  15360   \n",
       "13 2018-06-17  smart                 50                  15360   \n",
       "14 2018-06-17  smart                 50                  15360   \n",
       "\n",
       "    minutes_included  rub_monthly_fee  rub_per_gb  rub_per_message  \\\n",
       "0               3000             1950         150                1   \n",
       "1               3000             1950         150                1   \n",
       "2               3000             1950         150                1   \n",
       "3               3000             1950         150                1   \n",
       "4               3000             1950         150                1   \n",
       "5               3000             1950         150                1   \n",
       "6               3000             1950         150                1   \n",
       "7               3000             1950         150                1   \n",
       "8                500              550         200                3   \n",
       "9                500              550         200                3   \n",
       "10               500              550         200                3   \n",
       "11               500              550         200                3   \n",
       "12               500              550         200                3   \n",
       "13               500              550         200                3   \n",
       "14               500              550         200                3   \n",
       "\n",
       "    rub_per_minute  \n",
       "0                1  \n",
       "1                1  \n",
       "2                1  \n",
       "3                1  \n",
       "4                1  \n",
       "5                1  \n",
       "6                1  \n",
       "7                1  \n",
       "8                3  \n",
       "9                3  \n",
       "10               3  \n",
       "11               3  \n",
       "12               3  \n",
       "13               3  \n",
       "14               3  "
      ]
     },
     "execution_count": 21,
     "metadata": {},
     "output_type": "execute_result"
    }
   ],
   "source": [
    "# Окончательное склеивание\n",
    "\n",
    "data2 = data_pivot.merge(users, on='user_id', how='left')\n",
    "united_data = data2.merge(tariffs, on='tariff', how='left')\n",
    "united_data.head(15)"
   ]
  },
  {
   "cell_type": "markdown",
   "metadata": {},
   "source": [
    "* Считаем прибыль компании:"
   ]
  },
  {
   "cell_type": "code",
   "execution_count": 24,
   "metadata": {
    "scrolled": true
   },
   "outputs": [
    {
     "data": {
      "text/html": [
       "<div>\n",
       "<style scoped>\n",
       "    .dataframe tbody tr th:only-of-type {\n",
       "        vertical-align: middle;\n",
       "    }\n",
       "\n",
       "    .dataframe tbody tr th {\n",
       "        vertical-align: top;\n",
       "    }\n",
       "\n",
       "    .dataframe thead th {\n",
       "        text-align: right;\n",
       "    }\n",
       "</style>\n",
       "<table border=\"1\" class=\"dataframe\">\n",
       "  <thead>\n",
       "    <tr style=\"text-align: right;\">\n",
       "      <th></th>\n",
       "      <th>0</th>\n",
       "      <th>1</th>\n",
       "      <th>2</th>\n",
       "      <th>3</th>\n",
       "      <th>4</th>\n",
       "      <th>5</th>\n",
       "      <th>6</th>\n",
       "      <th>7</th>\n",
       "      <th>8</th>\n",
       "      <th>9</th>\n",
       "      <th>10</th>\n",
       "      <th>11</th>\n",
       "      <th>12</th>\n",
       "      <th>13</th>\n",
       "      <th>14</th>\n",
       "    </tr>\n",
       "  </thead>\n",
       "  <tbody>\n",
       "    <tr>\n",
       "      <th>user_id</th>\n",
       "      <td>1000</td>\n",
       "      <td>1000</td>\n",
       "      <td>1000</td>\n",
       "      <td>1000</td>\n",
       "      <td>1000</td>\n",
       "      <td>1000</td>\n",
       "      <td>1000</td>\n",
       "      <td>1000</td>\n",
       "      <td>1001</td>\n",
       "      <td>1001</td>\n",
       "      <td>1002</td>\n",
       "      <td>1002</td>\n",
       "      <td>1002</td>\n",
       "      <td>1002</td>\n",
       "      <td>1002</td>\n",
       "    </tr>\n",
       "    <tr>\n",
       "      <th>month</th>\n",
       "      <td>2018-05-01 00:00:00</td>\n",
       "      <td>2018-06-01 00:00:00</td>\n",
       "      <td>2018-07-01 00:00:00</td>\n",
       "      <td>2018-08-01 00:00:00</td>\n",
       "      <td>2018-09-01 00:00:00</td>\n",
       "      <td>2018-10-01 00:00:00</td>\n",
       "      <td>2018-11-01 00:00:00</td>\n",
       "      <td>2018-12-01 00:00:00</td>\n",
       "      <td>2018-11-01 00:00:00</td>\n",
       "      <td>2018-12-01 00:00:00</td>\n",
       "      <td>2018-06-01 00:00:00</td>\n",
       "      <td>2018-07-01 00:00:00</td>\n",
       "      <td>2018-08-01 00:00:00</td>\n",
       "      <td>2018-09-01 00:00:00</td>\n",
       "      <td>2018-10-01 00:00:00</td>\n",
       "    </tr>\n",
       "    <tr>\n",
       "      <th>calls_count</th>\n",
       "      <td>22.0</td>\n",
       "      <td>43.0</td>\n",
       "      <td>47.0</td>\n",
       "      <td>52.0</td>\n",
       "      <td>58.0</td>\n",
       "      <td>57.0</td>\n",
       "      <td>43.0</td>\n",
       "      <td>46.0</td>\n",
       "      <td>59.0</td>\n",
       "      <td>63.0</td>\n",
       "      <td>15.0</td>\n",
       "      <td>26.0</td>\n",
       "      <td>42.0</td>\n",
       "      <td>36.0</td>\n",
       "      <td>33.0</td>\n",
       "    </tr>\n",
       "    <tr>\n",
       "      <th>calls_duration</th>\n",
       "      <td>159.0</td>\n",
       "      <td>172.0</td>\n",
       "      <td>340.0</td>\n",
       "      <td>408.0</td>\n",
       "      <td>466.0</td>\n",
       "      <td>350.0</td>\n",
       "      <td>338.0</td>\n",
       "      <td>333.0</td>\n",
       "      <td>430.0</td>\n",
       "      <td>414.0</td>\n",
       "      <td>117.0</td>\n",
       "      <td>214.0</td>\n",
       "      <td>289.0</td>\n",
       "      <td>206.0</td>\n",
       "      <td>212.0</td>\n",
       "    </tr>\n",
       "    <tr>\n",
       "      <th>messages_count</th>\n",
       "      <td>22.0</td>\n",
       "      <td>60.0</td>\n",
       "      <td>75.0</td>\n",
       "      <td>81.0</td>\n",
       "      <td>57.0</td>\n",
       "      <td>73.0</td>\n",
       "      <td>58.0</td>\n",
       "      <td>70.0</td>\n",
       "      <td>NaN</td>\n",
       "      <td>NaN</td>\n",
       "      <td>4.0</td>\n",
       "      <td>11.0</td>\n",
       "      <td>13.0</td>\n",
       "      <td>4.0</td>\n",
       "      <td>10.0</td>\n",
       "    </tr>\n",
       "    <tr>\n",
       "      <th>mb_traffic_count</th>\n",
       "      <td>2253.0</td>\n",
       "      <td>23233.0</td>\n",
       "      <td>14003.0</td>\n",
       "      <td>14055.0</td>\n",
       "      <td>14568.0</td>\n",
       "      <td>14702.0</td>\n",
       "      <td>14756.0</td>\n",
       "      <td>9817.0</td>\n",
       "      <td>18429.0</td>\n",
       "      <td>14036.0</td>\n",
       "      <td>10856.0</td>\n",
       "      <td>17580.0</td>\n",
       "      <td>20319.0</td>\n",
       "      <td>16691.0</td>\n",
       "      <td>13888.0</td>\n",
       "    </tr>\n",
       "    <tr>\n",
       "      <th>age</th>\n",
       "      <td>52</td>\n",
       "      <td>52</td>\n",
       "      <td>52</td>\n",
       "      <td>52</td>\n",
       "      <td>52</td>\n",
       "      <td>52</td>\n",
       "      <td>52</td>\n",
       "      <td>52</td>\n",
       "      <td>41</td>\n",
       "      <td>41</td>\n",
       "      <td>59</td>\n",
       "      <td>59</td>\n",
       "      <td>59</td>\n",
       "      <td>59</td>\n",
       "      <td>59</td>\n",
       "    </tr>\n",
       "    <tr>\n",
       "      <th>churn_date</th>\n",
       "      <td>NaT</td>\n",
       "      <td>NaT</td>\n",
       "      <td>NaT</td>\n",
       "      <td>NaT</td>\n",
       "      <td>NaT</td>\n",
       "      <td>NaT</td>\n",
       "      <td>NaT</td>\n",
       "      <td>NaT</td>\n",
       "      <td>NaT</td>\n",
       "      <td>NaT</td>\n",
       "      <td>NaT</td>\n",
       "      <td>NaT</td>\n",
       "      <td>NaT</td>\n",
       "      <td>NaT</td>\n",
       "      <td>NaT</td>\n",
       "    </tr>\n",
       "    <tr>\n",
       "      <th>city</th>\n",
       "      <td>Краснодар</td>\n",
       "      <td>Краснодар</td>\n",
       "      <td>Краснодар</td>\n",
       "      <td>Краснодар</td>\n",
       "      <td>Краснодар</td>\n",
       "      <td>Краснодар</td>\n",
       "      <td>Краснодар</td>\n",
       "      <td>Краснодар</td>\n",
       "      <td>Москва</td>\n",
       "      <td>Москва</td>\n",
       "      <td>Стерлитамак</td>\n",
       "      <td>Стерлитамак</td>\n",
       "      <td>Стерлитамак</td>\n",
       "      <td>Стерлитамак</td>\n",
       "      <td>Стерлитамак</td>\n",
       "    </tr>\n",
       "    <tr>\n",
       "      <th>first_name</th>\n",
       "      <td>Рафаил</td>\n",
       "      <td>Рафаил</td>\n",
       "      <td>Рафаил</td>\n",
       "      <td>Рафаил</td>\n",
       "      <td>Рафаил</td>\n",
       "      <td>Рафаил</td>\n",
       "      <td>Рафаил</td>\n",
       "      <td>Рафаил</td>\n",
       "      <td>Иван</td>\n",
       "      <td>Иван</td>\n",
       "      <td>Евгений</td>\n",
       "      <td>Евгений</td>\n",
       "      <td>Евгений</td>\n",
       "      <td>Евгений</td>\n",
       "      <td>Евгений</td>\n",
       "    </tr>\n",
       "    <tr>\n",
       "      <th>last_name</th>\n",
       "      <td>Верещагин</td>\n",
       "      <td>Верещагин</td>\n",
       "      <td>Верещагин</td>\n",
       "      <td>Верещагин</td>\n",
       "      <td>Верещагин</td>\n",
       "      <td>Верещагин</td>\n",
       "      <td>Верещагин</td>\n",
       "      <td>Верещагин</td>\n",
       "      <td>Ежов</td>\n",
       "      <td>Ежов</td>\n",
       "      <td>Абрамович</td>\n",
       "      <td>Абрамович</td>\n",
       "      <td>Абрамович</td>\n",
       "      <td>Абрамович</td>\n",
       "      <td>Абрамович</td>\n",
       "    </tr>\n",
       "    <tr>\n",
       "      <th>reg_date</th>\n",
       "      <td>2018-05-25 00:00:00</td>\n",
       "      <td>2018-05-25 00:00:00</td>\n",
       "      <td>2018-05-25 00:00:00</td>\n",
       "      <td>2018-05-25 00:00:00</td>\n",
       "      <td>2018-05-25 00:00:00</td>\n",
       "      <td>2018-05-25 00:00:00</td>\n",
       "      <td>2018-05-25 00:00:00</td>\n",
       "      <td>2018-05-25 00:00:00</td>\n",
       "      <td>2018-11-01 00:00:00</td>\n",
       "      <td>2018-11-01 00:00:00</td>\n",
       "      <td>2018-06-17 00:00:00</td>\n",
       "      <td>2018-06-17 00:00:00</td>\n",
       "      <td>2018-06-17 00:00:00</td>\n",
       "      <td>2018-06-17 00:00:00</td>\n",
       "      <td>2018-06-17 00:00:00</td>\n",
       "    </tr>\n",
       "    <tr>\n",
       "      <th>tariff</th>\n",
       "      <td>ultra</td>\n",
       "      <td>ultra</td>\n",
       "      <td>ultra</td>\n",
       "      <td>ultra</td>\n",
       "      <td>ultra</td>\n",
       "      <td>ultra</td>\n",
       "      <td>ultra</td>\n",
       "      <td>ultra</td>\n",
       "      <td>smart</td>\n",
       "      <td>smart</td>\n",
       "      <td>smart</td>\n",
       "      <td>smart</td>\n",
       "      <td>smart</td>\n",
       "      <td>smart</td>\n",
       "      <td>smart</td>\n",
       "    </tr>\n",
       "    <tr>\n",
       "      <th>messages_included</th>\n",
       "      <td>1000</td>\n",
       "      <td>1000</td>\n",
       "      <td>1000</td>\n",
       "      <td>1000</td>\n",
       "      <td>1000</td>\n",
       "      <td>1000</td>\n",
       "      <td>1000</td>\n",
       "      <td>1000</td>\n",
       "      <td>50</td>\n",
       "      <td>50</td>\n",
       "      <td>50</td>\n",
       "      <td>50</td>\n",
       "      <td>50</td>\n",
       "      <td>50</td>\n",
       "      <td>50</td>\n",
       "    </tr>\n",
       "    <tr>\n",
       "      <th>mb_per_month_included</th>\n",
       "      <td>30720</td>\n",
       "      <td>30720</td>\n",
       "      <td>30720</td>\n",
       "      <td>30720</td>\n",
       "      <td>30720</td>\n",
       "      <td>30720</td>\n",
       "      <td>30720</td>\n",
       "      <td>30720</td>\n",
       "      <td>15360</td>\n",
       "      <td>15360</td>\n",
       "      <td>15360</td>\n",
       "      <td>15360</td>\n",
       "      <td>15360</td>\n",
       "      <td>15360</td>\n",
       "      <td>15360</td>\n",
       "    </tr>\n",
       "    <tr>\n",
       "      <th>minutes_included</th>\n",
       "      <td>3000</td>\n",
       "      <td>3000</td>\n",
       "      <td>3000</td>\n",
       "      <td>3000</td>\n",
       "      <td>3000</td>\n",
       "      <td>3000</td>\n",
       "      <td>3000</td>\n",
       "      <td>3000</td>\n",
       "      <td>500</td>\n",
       "      <td>500</td>\n",
       "      <td>500</td>\n",
       "      <td>500</td>\n",
       "      <td>500</td>\n",
       "      <td>500</td>\n",
       "      <td>500</td>\n",
       "    </tr>\n",
       "    <tr>\n",
       "      <th>rub_monthly_fee</th>\n",
       "      <td>1950</td>\n",
       "      <td>1950</td>\n",
       "      <td>1950</td>\n",
       "      <td>1950</td>\n",
       "      <td>1950</td>\n",
       "      <td>1950</td>\n",
       "      <td>1950</td>\n",
       "      <td>1950</td>\n",
       "      <td>550</td>\n",
       "      <td>550</td>\n",
       "      <td>550</td>\n",
       "      <td>550</td>\n",
       "      <td>550</td>\n",
       "      <td>550</td>\n",
       "      <td>550</td>\n",
       "    </tr>\n",
       "    <tr>\n",
       "      <th>rub_per_gb</th>\n",
       "      <td>150</td>\n",
       "      <td>150</td>\n",
       "      <td>150</td>\n",
       "      <td>150</td>\n",
       "      <td>150</td>\n",
       "      <td>150</td>\n",
       "      <td>150</td>\n",
       "      <td>150</td>\n",
       "      <td>200</td>\n",
       "      <td>200</td>\n",
       "      <td>200</td>\n",
       "      <td>200</td>\n",
       "      <td>200</td>\n",
       "      <td>200</td>\n",
       "      <td>200</td>\n",
       "    </tr>\n",
       "    <tr>\n",
       "      <th>rub_per_message</th>\n",
       "      <td>1</td>\n",
       "      <td>1</td>\n",
       "      <td>1</td>\n",
       "      <td>1</td>\n",
       "      <td>1</td>\n",
       "      <td>1</td>\n",
       "      <td>1</td>\n",
       "      <td>1</td>\n",
       "      <td>3</td>\n",
       "      <td>3</td>\n",
       "      <td>3</td>\n",
       "      <td>3</td>\n",
       "      <td>3</td>\n",
       "      <td>3</td>\n",
       "      <td>3</td>\n",
       "    </tr>\n",
       "    <tr>\n",
       "      <th>rub_per_minute</th>\n",
       "      <td>1</td>\n",
       "      <td>1</td>\n",
       "      <td>1</td>\n",
       "      <td>1</td>\n",
       "      <td>1</td>\n",
       "      <td>1</td>\n",
       "      <td>1</td>\n",
       "      <td>1</td>\n",
       "      <td>3</td>\n",
       "      <td>3</td>\n",
       "      <td>3</td>\n",
       "      <td>3</td>\n",
       "      <td>3</td>\n",
       "      <td>3</td>\n",
       "      <td>3</td>\n",
       "    </tr>\n",
       "    <tr>\n",
       "      <th>revenue_by_calls</th>\n",
       "      <td>0.0</td>\n",
       "      <td>0.0</td>\n",
       "      <td>0.0</td>\n",
       "      <td>0.0</td>\n",
       "      <td>0.0</td>\n",
       "      <td>0.0</td>\n",
       "      <td>0.0</td>\n",
       "      <td>0.0</td>\n",
       "      <td>0.0</td>\n",
       "      <td>0.0</td>\n",
       "      <td>0.0</td>\n",
       "      <td>0.0</td>\n",
       "      <td>0.0</td>\n",
       "      <td>0.0</td>\n",
       "      <td>0.0</td>\n",
       "    </tr>\n",
       "    <tr>\n",
       "      <th>revenue_by_msg</th>\n",
       "      <td>0.0</td>\n",
       "      <td>0.0</td>\n",
       "      <td>0.0</td>\n",
       "      <td>0.0</td>\n",
       "      <td>0.0</td>\n",
       "      <td>0.0</td>\n",
       "      <td>0.0</td>\n",
       "      <td>0.0</td>\n",
       "      <td>0.0</td>\n",
       "      <td>0.0</td>\n",
       "      <td>0.0</td>\n",
       "      <td>0.0</td>\n",
       "      <td>0.0</td>\n",
       "      <td>0.0</td>\n",
       "      <td>0.0</td>\n",
       "    </tr>\n",
       "    <tr>\n",
       "      <th>revenue_by_gb</th>\n",
       "      <td>0.0</td>\n",
       "      <td>0.0</td>\n",
       "      <td>0.0</td>\n",
       "      <td>0.0</td>\n",
       "      <td>0.0</td>\n",
       "      <td>0.0</td>\n",
       "      <td>0.0</td>\n",
       "      <td>0.0</td>\n",
       "      <td>600.0</td>\n",
       "      <td>0.0</td>\n",
       "      <td>0.0</td>\n",
       "      <td>600.0</td>\n",
       "      <td>1000.0</td>\n",
       "      <td>400.0</td>\n",
       "      <td>0.0</td>\n",
       "    </tr>\n",
       "    <tr>\n",
       "      <th>revenue</th>\n",
       "      <td>1950.0</td>\n",
       "      <td>1950.0</td>\n",
       "      <td>1950.0</td>\n",
       "      <td>1950.0</td>\n",
       "      <td>1950.0</td>\n",
       "      <td>1950.0</td>\n",
       "      <td>1950.0</td>\n",
       "      <td>1950.0</td>\n",
       "      <td>1150.0</td>\n",
       "      <td>550.0</td>\n",
       "      <td>550.0</td>\n",
       "      <td>1150.0</td>\n",
       "      <td>1550.0</td>\n",
       "      <td>950.0</td>\n",
       "      <td>550.0</td>\n",
       "    </tr>\n",
       "  </tbody>\n",
       "</table>\n",
       "</div>"
      ],
      "text/plain": [
       "                                        0                    1   \\\n",
       "user_id                               1000                 1000   \n",
       "month                  2018-05-01 00:00:00  2018-06-01 00:00:00   \n",
       "calls_count                           22.0                 43.0   \n",
       "calls_duration                       159.0                172.0   \n",
       "messages_count                        22.0                 60.0   \n",
       "mb_traffic_count                    2253.0              23233.0   \n",
       "age                                     52                   52   \n",
       "churn_date                             NaT                  NaT   \n",
       "city                             Краснодар            Краснодар   \n",
       "first_name                          Рафаил               Рафаил   \n",
       "last_name                        Верещагин            Верещагин   \n",
       "reg_date               2018-05-25 00:00:00  2018-05-25 00:00:00   \n",
       "tariff                               ultra                ultra   \n",
       "messages_included                     1000                 1000   \n",
       "mb_per_month_included                30720                30720   \n",
       "minutes_included                      3000                 3000   \n",
       "rub_monthly_fee                       1950                 1950   \n",
       "rub_per_gb                             150                  150   \n",
       "rub_per_message                          1                    1   \n",
       "rub_per_minute                           1                    1   \n",
       "revenue_by_calls                       0.0                  0.0   \n",
       "revenue_by_msg                         0.0                  0.0   \n",
       "revenue_by_gb                          0.0                  0.0   \n",
       "revenue                             1950.0               1950.0   \n",
       "\n",
       "                                        2                    3   \\\n",
       "user_id                               1000                 1000   \n",
       "month                  2018-07-01 00:00:00  2018-08-01 00:00:00   \n",
       "calls_count                           47.0                 52.0   \n",
       "calls_duration                       340.0                408.0   \n",
       "messages_count                        75.0                 81.0   \n",
       "mb_traffic_count                   14003.0              14055.0   \n",
       "age                                     52                   52   \n",
       "churn_date                             NaT                  NaT   \n",
       "city                             Краснодар            Краснодар   \n",
       "first_name                          Рафаил               Рафаил   \n",
       "last_name                        Верещагин            Верещагин   \n",
       "reg_date               2018-05-25 00:00:00  2018-05-25 00:00:00   \n",
       "tariff                               ultra                ultra   \n",
       "messages_included                     1000                 1000   \n",
       "mb_per_month_included                30720                30720   \n",
       "minutes_included                      3000                 3000   \n",
       "rub_monthly_fee                       1950                 1950   \n",
       "rub_per_gb                             150                  150   \n",
       "rub_per_message                          1                    1   \n",
       "rub_per_minute                           1                    1   \n",
       "revenue_by_calls                       0.0                  0.0   \n",
       "revenue_by_msg                         0.0                  0.0   \n",
       "revenue_by_gb                          0.0                  0.0   \n",
       "revenue                             1950.0               1950.0   \n",
       "\n",
       "                                        4                    5   \\\n",
       "user_id                               1000                 1000   \n",
       "month                  2018-09-01 00:00:00  2018-10-01 00:00:00   \n",
       "calls_count                           58.0                 57.0   \n",
       "calls_duration                       466.0                350.0   \n",
       "messages_count                        57.0                 73.0   \n",
       "mb_traffic_count                   14568.0              14702.0   \n",
       "age                                     52                   52   \n",
       "churn_date                             NaT                  NaT   \n",
       "city                             Краснодар            Краснодар   \n",
       "first_name                          Рафаил               Рафаил   \n",
       "last_name                        Верещагин            Верещагин   \n",
       "reg_date               2018-05-25 00:00:00  2018-05-25 00:00:00   \n",
       "tariff                               ultra                ultra   \n",
       "messages_included                     1000                 1000   \n",
       "mb_per_month_included                30720                30720   \n",
       "minutes_included                      3000                 3000   \n",
       "rub_monthly_fee                       1950                 1950   \n",
       "rub_per_gb                             150                  150   \n",
       "rub_per_message                          1                    1   \n",
       "rub_per_minute                           1                    1   \n",
       "revenue_by_calls                       0.0                  0.0   \n",
       "revenue_by_msg                         0.0                  0.0   \n",
       "revenue_by_gb                          0.0                  0.0   \n",
       "revenue                             1950.0               1950.0   \n",
       "\n",
       "                                        6                    7   \\\n",
       "user_id                               1000                 1000   \n",
       "month                  2018-11-01 00:00:00  2018-12-01 00:00:00   \n",
       "calls_count                           43.0                 46.0   \n",
       "calls_duration                       338.0                333.0   \n",
       "messages_count                        58.0                 70.0   \n",
       "mb_traffic_count                   14756.0               9817.0   \n",
       "age                                     52                   52   \n",
       "churn_date                             NaT                  NaT   \n",
       "city                             Краснодар            Краснодар   \n",
       "first_name                          Рафаил               Рафаил   \n",
       "last_name                        Верещагин            Верещагин   \n",
       "reg_date               2018-05-25 00:00:00  2018-05-25 00:00:00   \n",
       "tariff                               ultra                ultra   \n",
       "messages_included                     1000                 1000   \n",
       "mb_per_month_included                30720                30720   \n",
       "minutes_included                      3000                 3000   \n",
       "rub_monthly_fee                       1950                 1950   \n",
       "rub_per_gb                             150                  150   \n",
       "rub_per_message                          1                    1   \n",
       "rub_per_minute                           1                    1   \n",
       "revenue_by_calls                       0.0                  0.0   \n",
       "revenue_by_msg                         0.0                  0.0   \n",
       "revenue_by_gb                          0.0                  0.0   \n",
       "revenue                             1950.0               1950.0   \n",
       "\n",
       "                                        8                    9   \\\n",
       "user_id                               1001                 1001   \n",
       "month                  2018-11-01 00:00:00  2018-12-01 00:00:00   \n",
       "calls_count                           59.0                 63.0   \n",
       "calls_duration                       430.0                414.0   \n",
       "messages_count                         NaN                  NaN   \n",
       "mb_traffic_count                   18429.0              14036.0   \n",
       "age                                     41                   41   \n",
       "churn_date                             NaT                  NaT   \n",
       "city                                Москва               Москва   \n",
       "first_name                            Иван                 Иван   \n",
       "last_name                             Ежов                 Ежов   \n",
       "reg_date               2018-11-01 00:00:00  2018-11-01 00:00:00   \n",
       "tariff                               smart                smart   \n",
       "messages_included                       50                   50   \n",
       "mb_per_month_included                15360                15360   \n",
       "minutes_included                       500                  500   \n",
       "rub_monthly_fee                        550                  550   \n",
       "rub_per_gb                             200                  200   \n",
       "rub_per_message                          3                    3   \n",
       "rub_per_minute                           3                    3   \n",
       "revenue_by_calls                       0.0                  0.0   \n",
       "revenue_by_msg                         0.0                  0.0   \n",
       "revenue_by_gb                        600.0                  0.0   \n",
       "revenue                             1150.0                550.0   \n",
       "\n",
       "                                        10                   11  \\\n",
       "user_id                               1002                 1002   \n",
       "month                  2018-06-01 00:00:00  2018-07-01 00:00:00   \n",
       "calls_count                           15.0                 26.0   \n",
       "calls_duration                       117.0                214.0   \n",
       "messages_count                         4.0                 11.0   \n",
       "mb_traffic_count                   10856.0              17580.0   \n",
       "age                                     59                   59   \n",
       "churn_date                             NaT                  NaT   \n",
       "city                           Стерлитамак          Стерлитамак   \n",
       "first_name                         Евгений              Евгений   \n",
       "last_name                        Абрамович            Абрамович   \n",
       "reg_date               2018-06-17 00:00:00  2018-06-17 00:00:00   \n",
       "tariff                               smart                smart   \n",
       "messages_included                       50                   50   \n",
       "mb_per_month_included                15360                15360   \n",
       "minutes_included                       500                  500   \n",
       "rub_monthly_fee                        550                  550   \n",
       "rub_per_gb                             200                  200   \n",
       "rub_per_message                          3                    3   \n",
       "rub_per_minute                           3                    3   \n",
       "revenue_by_calls                       0.0                  0.0   \n",
       "revenue_by_msg                         0.0                  0.0   \n",
       "revenue_by_gb                          0.0                600.0   \n",
       "revenue                              550.0               1150.0   \n",
       "\n",
       "                                        12                   13  \\\n",
       "user_id                               1002                 1002   \n",
       "month                  2018-08-01 00:00:00  2018-09-01 00:00:00   \n",
       "calls_count                           42.0                 36.0   \n",
       "calls_duration                       289.0                206.0   \n",
       "messages_count                        13.0                  4.0   \n",
       "mb_traffic_count                   20319.0              16691.0   \n",
       "age                                     59                   59   \n",
       "churn_date                             NaT                  NaT   \n",
       "city                           Стерлитамак          Стерлитамак   \n",
       "first_name                         Евгений              Евгений   \n",
       "last_name                        Абрамович            Абрамович   \n",
       "reg_date               2018-06-17 00:00:00  2018-06-17 00:00:00   \n",
       "tariff                               smart                smart   \n",
       "messages_included                       50                   50   \n",
       "mb_per_month_included                15360                15360   \n",
       "minutes_included                       500                  500   \n",
       "rub_monthly_fee                        550                  550   \n",
       "rub_per_gb                             200                  200   \n",
       "rub_per_message                          3                    3   \n",
       "rub_per_minute                           3                    3   \n",
       "revenue_by_calls                       0.0                  0.0   \n",
       "revenue_by_msg                         0.0                  0.0   \n",
       "revenue_by_gb                       1000.0                400.0   \n",
       "revenue                             1550.0                950.0   \n",
       "\n",
       "                                        14  \n",
       "user_id                               1002  \n",
       "month                  2018-10-01 00:00:00  \n",
       "calls_count                           33.0  \n",
       "calls_duration                       212.0  \n",
       "messages_count                        10.0  \n",
       "mb_traffic_count                   13888.0  \n",
       "age                                     59  \n",
       "churn_date                             NaT  \n",
       "city                           Стерлитамак  \n",
       "first_name                         Евгений  \n",
       "last_name                        Абрамович  \n",
       "reg_date               2018-06-17 00:00:00  \n",
       "tariff                               smart  \n",
       "messages_included                       50  \n",
       "mb_per_month_included                15360  \n",
       "minutes_included                       500  \n",
       "rub_monthly_fee                        550  \n",
       "rub_per_gb                             200  \n",
       "rub_per_message                          3  \n",
       "rub_per_minute                           3  \n",
       "revenue_by_calls                       0.0  \n",
       "revenue_by_msg                         0.0  \n",
       "revenue_by_gb                          0.0  \n",
       "revenue                              550.0  "
      ]
     },
     "execution_count": 24,
     "metadata": {},
     "output_type": "execute_result"
    }
   ],
   "source": [
    "united_data['revenue_by_calls']=0  \n",
    "united_data.loc[united_data['calls_duration']>united_data['minutes_included'], 'revenue_by_calls']= \\\n",
    "    (united_data['calls_duration'] - united_data['minutes_included'])* united_data['rub_per_minute']\n",
    "\n",
    "united_data['revenue_by_msg']=0  \n",
    "united_data.loc[united_data['messages_count']>united_data['messages_included'], 'revenue_by_msg']= \\\n",
    "    (united_data['messages_count'] - united_data['messages_included'])* united_data['rub_per_message']\n",
    "\n",
    "united_data['revenue_by_gb']=0  \n",
    "united_data.loc[united_data['mb_traffic_count']>united_data['mb_per_month_included'], 'revenue_by_gb']= \\\n",
    "    ((united_data['mb_traffic_count'] - united_data['mb_per_month_included'])/1024).apply(np.ceil)  #округляем до гб\n",
    "united_data['revenue_by_gb'] = united_data['revenue_by_gb']* united_data['rub_per_gb']\n",
    "\n",
    "united_data['revenue'] = united_data[['rub_monthly_fee','revenue_by_calls','revenue_by_msg','revenue_by_gb']].sum(axis=1)\n",
    "\n",
    "united_data.head(15).T"
   ]
  },
  {
   "cell_type": "markdown",
   "metadata": {},
   "source": [
    "Теперь у нас есть все необходимые данные: сведения об абонентах, а также информация о потребленных ими объемах услуг и принесенной компании выручке.\n",
    "И эти данные готовы к анализу."
   ]
  },
  {
   "cell_type": "markdown",
   "metadata": {},
   "source": [
    "### Шаг 3. Анализ данных <a id=\"analysis\"></a> \n",
    "\n",
    "Опишем поведение клиентов оператора, исходя из выборки. Сколько минут разговора, сколько сообщений и какой объём интернет-трафика требуется пользователям каждого тарифа в месяц? Посчитаем среднее количество, дисперсию и стандартное отклонение. Построим гистограммы и опишем распределения.\n"
   ]
  },
  {
   "cell_type": "markdown",
   "metadata": {},
   "source": [
    "- Посчитаем среднее количество, дисперсию и стандартное отклонение - для каждой услуги и для каждого тарифа:"
   ]
  },
  {
   "cell_type": "code",
   "execution_count": 20,
   "metadata": {},
   "outputs": [
    {
     "data": {
      "text/html": [
       "<div>\n",
       "<style scoped>\n",
       "    .dataframe tbody tr th:only-of-type {\n",
       "        vertical-align: middle;\n",
       "    }\n",
       "\n",
       "    .dataframe tbody tr th {\n",
       "        vertical-align: top;\n",
       "    }\n",
       "\n",
       "    .dataframe thead th {\n",
       "        text-align: right;\n",
       "    }\n",
       "</style>\n",
       "<table border=\"1\" class=\"dataframe\">\n",
       "  <thead>\n",
       "    <tr style=\"text-align: right;\">\n",
       "      <th></th>\n",
       "      <th></th>\n",
       "      <th>0</th>\n",
       "      <th>1</th>\n",
       "    </tr>\n",
       "  </thead>\n",
       "  <tbody>\n",
       "    <tr>\n",
       "      <th>tariff</th>\n",
       "      <th></th>\n",
       "      <td>smart</td>\n",
       "      <td>ultra</td>\n",
       "    </tr>\n",
       "    <tr>\n",
       "      <th rowspan=\"4\" valign=\"top\">mean</th>\n",
       "      <th>calls_count</th>\n",
       "      <td>58</td>\n",
       "      <td>73</td>\n",
       "    </tr>\n",
       "    <tr>\n",
       "      <th>calls_duration</th>\n",
       "      <td>417</td>\n",
       "      <td>526</td>\n",
       "    </tr>\n",
       "    <tr>\n",
       "      <th>mb_traffic_count</th>\n",
       "      <td>16207</td>\n",
       "      <td>19468</td>\n",
       "    </tr>\n",
       "    <tr>\n",
       "      <th>messages_count</th>\n",
       "      <td>33</td>\n",
       "      <td>49</td>\n",
       "    </tr>\n",
       "    <tr>\n",
       "      <th rowspan=\"4\" valign=\"top\">std</th>\n",
       "      <th>calls_count</th>\n",
       "      <td>25</td>\n",
       "      <td>43</td>\n",
       "    </tr>\n",
       "    <tr>\n",
       "      <th>calls_duration</th>\n",
       "      <td>190</td>\n",
       "      <td>317</td>\n",
       "    </tr>\n",
       "    <tr>\n",
       "      <th>mb_traffic_count</th>\n",
       "      <td>5870</td>\n",
       "      <td>10087</td>\n",
       "    </tr>\n",
       "    <tr>\n",
       "      <th>messages_count</th>\n",
       "      <td>28</td>\n",
       "      <td>47</td>\n",
       "    </tr>\n",
       "    <tr>\n",
       "      <th rowspan=\"4\" valign=\"top\">var</th>\n",
       "      <th>calls_count</th>\n",
       "      <td>672</td>\n",
       "      <td>1928</td>\n",
       "    </tr>\n",
       "    <tr>\n",
       "      <th>calls_duration</th>\n",
       "      <td>36219</td>\n",
       "      <td>100873</td>\n",
       "    </tr>\n",
       "    <tr>\n",
       "      <th>mb_traffic_count</th>\n",
       "      <td>34462537</td>\n",
       "      <td>101751075</td>\n",
       "    </tr>\n",
       "    <tr>\n",
       "      <th>messages_count</th>\n",
       "      <td>796</td>\n",
       "      <td>2285</td>\n",
       "    </tr>\n",
       "  </tbody>\n",
       "</table>\n",
       "</div>"
      ],
      "text/plain": [
       "                                0          1\n",
       "tariff                      smart      ultra\n",
       "mean   calls_count             58         73\n",
       "       calls_duration         417        526\n",
       "       mb_traffic_count     16207      19468\n",
       "       messages_count          33         49\n",
       "std    calls_count             25         43\n",
       "       calls_duration         190        317\n",
       "       mb_traffic_count      5870      10087\n",
       "       messages_count          28         47\n",
       "var    calls_count            672       1928\n",
       "       calls_duration       36219     100873\n",
       "       mb_traffic_count  34462537  101751075\n",
       "       messages_count         796       2285"
      ]
     },
     "execution_count": 20,
     "metadata": {},
     "output_type": "execute_result"
    }
   ],
   "source": [
    "united_data.pivot_table(index='tariff',values=('calls_count','calls_duration', \\\n",
    "'messages_count','mb_traffic_count'), aggfunc=['mean', 'std', 'var']).astype(int).reset_index().T"
   ]
  },
  {
   "cell_type": "markdown",
   "metadata": {},
   "source": [
    "- Построим гистрограммы распределения - для каждой услуги:"
   ]
  },
  {
   "cell_type": "code",
   "execution_count": 21,
   "metadata": {},
   "outputs": [
    {
     "data": {
      "image/png": "[encoded data removed]",
      "text/plain": [
       "<Figure size 432x288 with 1 Axes>"
      ]
     },
     "metadata": {
      "needs_background": "light"
     },
     "output_type": "display_data"
    }
   ],
   "source": [
    "import matplotlib.pyplot as plt\n",
    "\n",
    "plt.hist(united_data['calls_count'][united_data['tariff'] == 'smart'], alpha=0.5, color='violet')\n",
    "plt.hist(united_data['calls_count'][united_data['tariff'] == 'ultra'], alpha=0.5, color='purple')\n",
    "plt.title('Количество совершенных звонков')\n",
    "plt.legend(['Smart', 'Ultra'])\n",
    "plt.show()"
   ]
  },
  {
   "cell_type": "code",
   "execution_count": 22,
   "metadata": {},
   "outputs": [
    {
     "data": {
      "image/png": "[encoded data removed]",
      "text/plain": [
       "<Figure size 432x288 with 1 Axes>"
      ]
     },
     "metadata": {
      "needs_background": "light"
     },
     "output_type": "display_data"
    }
   ],
   "source": [
    "plt.hist(united_data['calls_duration'][united_data['tariff'] == 'smart'], alpha=0.5, color='pink')\n",
    "plt.hist(united_data['calls_duration'][united_data['tariff'] == 'ultra'], alpha=0.5, color='red')\n",
    "plt.title('Продолжительность звонков в минутах')\n",
    "plt.legend(['Smart', 'Ultra'])\n",
    "plt.show()"
   ]
  },
  {
   "cell_type": "code",
   "execution_count": 23,
   "metadata": {},
   "outputs": [
    {
     "data": {
      "image/png": "[encoded data removed]",
      "text/plain": [
       "<Figure size 432x288 with 1 Axes>"
      ]
     },
     "metadata": {
      "needs_background": "light"
     },
     "output_type": "display_data"
    }
   ],
   "source": [
    "plt.hist(united_data['messages_count'][united_data['tariff'] == 'smart'], alpha=0.5, color='blue')\n",
    "plt.hist(united_data['messages_count'][united_data['tariff'] == 'ultra'], alpha=0.5, color='navy')\n",
    "plt.title('Количество отправленных сообщений')\n",
    "plt.legend(['Smart', 'Ultra'])\n",
    "plt.show()"
   ]
  },
  {
   "cell_type": "code",
   "execution_count": 24,
   "metadata": {},
   "outputs": [
    {
     "data": {
      "image/png": "[encoded data removed]",
      "text/plain": [
       "<Figure size 432x288 with 1 Axes>"
      ]
     },
     "metadata": {
      "needs_background": "light"
     },
     "output_type": "display_data"
    }
   ],
   "source": [
    "plt.hist(united_data['mb_traffic_count'][united_data['tariff'] == 'smart'], alpha=0.5, color='lime')\n",
    "plt.hist(united_data['mb_traffic_count'][united_data['tariff'] == 'ultra'], alpha=0.5, color='green')\n",
    "plt.title('Количество использованных мб интернет-трафика')\n",
    "plt.legend(['Smart', 'Ultra'])\n",
    "plt.show()"
   ]
  },
  {
   "cell_type": "markdown",
   "metadata": {},
   "source": [
    "- Можем посмотреть на средние значения использованных услуг в каждом месяце отдельно:"
   ]
  },
  {
   "cell_type": "code",
   "execution_count": 25,
   "metadata": {},
   "outputs": [
    {
     "data": {
      "text/html": [
       "<div>\n",
       "<style scoped>\n",
       "    .dataframe tbody tr th:only-of-type {\n",
       "        vertical-align: middle;\n",
       "    }\n",
       "\n",
       "    .dataframe tbody tr th {\n",
       "        vertical-align: top;\n",
       "    }\n",
       "\n",
       "    .dataframe thead th {\n",
       "        text-align: right;\n",
       "    }\n",
       "</style>\n",
       "<table border=\"1\" class=\"dataframe\">\n",
       "  <thead>\n",
       "    <tr style=\"text-align: right;\">\n",
       "      <th></th>\n",
       "      <th>month</th>\n",
       "      <th>tariff</th>\n",
       "      <th>calls_count</th>\n",
       "      <th>calls_duration</th>\n",
       "      <th>mb_traffic_count</th>\n",
       "      <th>messages_count</th>\n",
       "    </tr>\n",
       "  </thead>\n",
       "  <tbody>\n",
       "    <tr>\n",
       "      <th>0</th>\n",
       "      <td>1514764800000000000</td>\n",
       "      <td>smart</td>\n",
       "      <td>27</td>\n",
       "      <td>203</td>\n",
       "      <td>8513</td>\n",
       "      <td>18</td>\n",
       "    </tr>\n",
       "    <tr>\n",
       "      <th>1</th>\n",
       "      <td>1514764800000000000</td>\n",
       "      <td>ultra</td>\n",
       "      <td>59</td>\n",
       "      <td>428</td>\n",
       "      <td>13140</td>\n",
       "      <td>33</td>\n",
       "    </tr>\n",
       "    <tr>\n",
       "      <th>2</th>\n",
       "      <td>1517443200000000000</td>\n",
       "      <td>smart</td>\n",
       "      <td>40</td>\n",
       "      <td>298</td>\n",
       "      <td>11596</td>\n",
       "      <td>24</td>\n",
       "    </tr>\n",
       "    <tr>\n",
       "      <th>3</th>\n",
       "      <td>1517443200000000000</td>\n",
       "      <td>ultra</td>\n",
       "      <td>41</td>\n",
       "      <td>297</td>\n",
       "      <td>11775</td>\n",
       "      <td>21</td>\n",
       "    </tr>\n",
       "    <tr>\n",
       "      <th>4</th>\n",
       "      <td>1519862400000000000</td>\n",
       "      <td>smart</td>\n",
       "      <td>54</td>\n",
       "      <td>390</td>\n",
       "      <td>15103</td>\n",
       "      <td>31</td>\n",
       "    </tr>\n",
       "    <tr>\n",
       "      <th>5</th>\n",
       "      <td>1519862400000000000</td>\n",
       "      <td>ultra</td>\n",
       "      <td>67</td>\n",
       "      <td>489</td>\n",
       "      <td>17535</td>\n",
       "      <td>32</td>\n",
       "    </tr>\n",
       "    <tr>\n",
       "      <th>6</th>\n",
       "      <td>1522540800000000000</td>\n",
       "      <td>smart</td>\n",
       "      <td>51</td>\n",
       "      <td>367</td>\n",
       "      <td>13461</td>\n",
       "      <td>30</td>\n",
       "    </tr>\n",
       "    <tr>\n",
       "      <th>7</th>\n",
       "      <td>1522540800000000000</td>\n",
       "      <td>ultra</td>\n",
       "      <td>64</td>\n",
       "      <td>458</td>\n",
       "      <td>16827</td>\n",
       "      <td>31</td>\n",
       "    </tr>\n",
       "    <tr>\n",
       "      <th>8</th>\n",
       "      <td>1525132800000000000</td>\n",
       "      <td>smart</td>\n",
       "      <td>55</td>\n",
       "      <td>387</td>\n",
       "      <td>15804</td>\n",
       "      <td>33</td>\n",
       "    </tr>\n",
       "    <tr>\n",
       "      <th>9</th>\n",
       "      <td>1525132800000000000</td>\n",
       "      <td>ultra</td>\n",
       "      <td>72</td>\n",
       "      <td>510</td>\n",
       "      <td>19362</td>\n",
       "      <td>37</td>\n",
       "    </tr>\n",
       "  </tbody>\n",
       "</table>\n",
       "</div>"
      ],
      "text/plain": [
       "                 month tariff  calls_count  calls_duration  mb_traffic_count  \\\n",
       "0  1514764800000000000  smart           27             203              8513   \n",
       "1  1514764800000000000  ultra           59             428             13140   \n",
       "2  1517443200000000000  smart           40             298             11596   \n",
       "3  1517443200000000000  ultra           41             297             11775   \n",
       "4  1519862400000000000  smart           54             390             15103   \n",
       "5  1519862400000000000  ultra           67             489             17535   \n",
       "6  1522540800000000000  smart           51             367             13461   \n",
       "7  1522540800000000000  ultra           64             458             16827   \n",
       "8  1525132800000000000  smart           55             387             15804   \n",
       "9  1525132800000000000  ultra           72             510             19362   \n",
       "\n",
       "   messages_count  \n",
       "0              18  \n",
       "1              33  \n",
       "2              24  \n",
       "3              21  \n",
       "4              31  \n",
       "5              32  \n",
       "6              30  \n",
       "7              31  \n",
       "8              33  \n",
       "9              37  "
      ]
     },
     "execution_count": 25,
     "metadata": {},
     "output_type": "execute_result"
    }
   ],
   "source": [
    "mean_data = united_data.pivot_table(index=['month', 'tariff']\\\n",
    ", values=('calls_count','calls_duration', 'messages_count','mb_traffic_count')).astype(int).reset_index()\n",
    "\n",
    "mean_data.head(10)"
   ]
  },
  {
   "cell_type": "markdown",
   "metadata": {},
   "source": [
    "И визуально сравнить эти средние значения:"
   ]
  },
  {
   "cell_type": "code",
   "execution_count": 26,
   "metadata": {},
   "outputs": [
    {
     "data": {
      "image/png": "[encoded data removed]",
      "text/plain": [
       "<Figure size 432x288 with 1 Axes>"
      ]
     },
     "metadata": {
      "needs_background": "light"
     },
     "output_type": "display_data"
    }
   ],
   "source": [
    "sns.barplot(x=\"month\", y=\"calls_count\", hue=\"tariff\", data=mean_data, palette='gist_earth_r')\\\n",
    ".set_title('Среднее количество звонков в месяц среди пользователей обоих тарифов - по месяцам')\n",
    "plt.xticks(rotation=90)\n",
    "plt.show()"
   ]
  },
  {
   "cell_type": "code",
   "execution_count": 27,
   "metadata": {},
   "outputs": [
    {
     "data": {
      "image/png": "[encoded data removed]",
      "text/plain": [
       "<Figure size 432x288 with 1 Axes>"
      ]
     },
     "metadata": {
      "needs_background": "light"
     },
     "output_type": "display_data"
    }
   ],
   "source": [
    "sns.barplot(x=\"month\", y=\"calls_duration\", hue=\"tariff\", data=mean_data, palette='BrBG_r')\\\n",
    ".set_title('Средняя продолжительность звонков (в минутах) в месяц среди пользователей обоих тарифов - по месяцам')\n",
    "plt.xticks(rotation=90)\n",
    "plt.show()"
   ]
  },
  {
   "cell_type": "code",
   "execution_count": 28,
   "metadata": {},
   "outputs": [
    {
     "data": {
      "image/png": "[encoded data removed]",
      "text/plain": [
       "<Figure size 432x288 with 1 Axes>"
      ]
     },
     "metadata": {
      "needs_background": "light"
     },
     "output_type": "display_data"
    }
   ],
   "source": [
    "sns.barplot(x=\"month\", y=\"messages_count\", hue=\"tariff\", data=mean_data, palette='Blues_r')\\\n",
    ".set_title('Среднее количество отправленных сообщений в месяц среди пользователей обоих тарифов - по месяцам')\n",
    "plt.xticks(rotation=90)\n",
    "plt.show()"
   ]
  },
  {
   "cell_type": "code",
   "execution_count": 29,
   "metadata": {},
   "outputs": [
    {
     "data": {
      "image/png": "[encoded data removed]",
      "text/plain": [
       "<Figure size 432x288 with 1 Axes>"
      ]
     },
     "metadata": {
      "needs_background": "light"
     },
     "output_type": "display_data"
    }
   ],
   "source": [
    "sns.barplot(x=\"month\", y=\"mb_traffic_count\", hue=\"tariff\", data=mean_data, palette='BuGn_r')\\\n",
    ".set_title('Среднее количество использованного интернет-трафика (в мегабайтах) в месяц среди пользователей обоих тарифов - по месяцам')\n",
    "plt.xticks(rotation=90)\n",
    "plt.show()"
   ]
  },
  {
   "cell_type": "markdown",
   "metadata": {},
   "source": [
    "Поскольку мы располагаем данными о том, расторгал пользователь договор или нет, можем посмотреть, связано ли это как-нибудь с тарифом."
   ]
  },
  {
   "cell_type": "code",
   "execution_count": 30,
   "metadata": {},
   "outputs": [
    {
     "name": "stdout",
     "output_type": "stream",
     "text": [
      "Общее количество пользователей, расторгнувших договор: 187\n",
      "Тариф / количество пользователей, расторгнувших договор / % от общего количества расторгнувших:\n",
      "        count  <lambda_0>\n",
      "tariff                   \n",
      "smart     111   59.358289\n",
      "ultra      76   40.641711\n"
     ]
    }
   ],
   "source": [
    "churn_data = united_data[united_data['churn_date'].notnull()]\n",
    "churn_data_ratio =  churn_data.groupby('tariff')['user_id'].agg(['count', lambda x: x.count()*100/len(churn_data)])\n",
    "print('Общее количество пользователей, расторгнувших договор:', len(churn_data))\n",
    "print('Тариф / количество пользователей, расторгнувших договор / % от общего количества расторгнувших:')\n",
    "print(churn_data_ratio)"
   ]
  },
  {
   "cell_type": "markdown",
   "metadata": {},
   "source": [
    "Соотношение 60 на 40 - заметной разницы в выражении преданности компании \"Мегалайн\" среди пользователей обоих тарифов нет."
   ]
  },
  {
   "cell_type": "markdown",
   "metadata": {},
   "source": [
    "#### Промежуточный вывод о поведении пользователей:\n",
    "\n",
    "Каждый месяц пользователи тарифа \"Смарт\" совершают от 0 до 133 (а в среднем - 58) звонков, суммарной продолжительностью от 0 до 987 (а в среднем - 417) минут. Аналогичные показатели у пользователей тарифа \"Ультра\" - это от 0 до 202 (а в среднем - 73) звонков, суммарной продолжительностью от 0 до 1477 (в среднем - 526) минут. Очевидно, вторые говорят по телефону чаще и дольше.\n",
    "\n",
    "Текстовыми сообщениями абоненты \"Ультры\" тоже общаются больше: они отправляют от 0 до 190 (а в среднем - 49) смс каждый месяц,  против 0-117 (и в среднем - 33) смс абонентов \"Смарта\".\n",
    "\n",
    "И наконец, потребление интернет-трафика: каждый месяц пользователи тарифов \"Смарт\" и \"Ультра\" расходуют по 0-34 (в среднем - 17) и 0-50 (в среднем - 20) гб соответственно. И здесь мы видим, что используемый абонентами \"Ультры\" объем услуг больше.\n",
    "\n",
    "Проведем исследование о том, приносят ли пользователи при этом одинаковую среднюю выручку.\n",
    "Сформулируем и проверим гипотезы.\n"
   ]
  },
  {
   "cell_type": "markdown",
   "metadata": {},
   "source": [
    "### Шаг 4. Проверка гипотез <a id=\"hypotheses\"></a> "
   ]
  },
  {
   "cell_type": "markdown",
   "metadata": {},
   "source": [
    "#### Гипотеза о равенстве средней выручки пользователей тарифов «Смарт» и «Ультра»\n",
    "\n",
    "Предположим, что средняя выручка, приносимая пользователями обоих тарифов, равна. Это будет наша нулевая гипотеза. Альтернативной гипотезой в этом случае будет предположение, что тарифы приносят разную выручку. Возьмем из общей базы данных (нашей генеральной совокупности) две выборки - пользователей тарифа \"Смарт\" и пользователей тарифа \"Ультра\". Поскольку выборки независимы, используем метод st.ttest_ind. И поскольку выборки разного размера, и можно предполагать, что их дисперсии разные, укажем параметр equal_var = False. Критический уровень статистической значимости возьмем 0.01. Проведем тест, и если вероятность того, что средние этих выборок окажутся очень близко (или равны), будет меньше заявленного критического уровня значимости, отвергнем нулевую гипотезу, как неподтвержденную."
   ]
  },
  {
   "cell_type": "code",
   "execution_count": 31,
   "metadata": {},
   "outputs": [
    {
     "name": "stdout",
     "output_type": "stream",
     "text": [
      "p-значение: 4.2606313931076085e-250\n",
      "Отвергаем нулевую гипотезу\n"
     ]
    }
   ],
   "source": [
    "from scipy import stats as st\n",
    "\n",
    "#выборки по тарифам\n",
    "revenue_smart = united_data[united_data['tariff']=='smart']['revenue']\n",
    "revenue_ultra = united_data[united_data['tariff']=='ultra']['revenue']\n",
    "\n",
    "alpha = .01\n",
    "\n",
    "results = st.ttest_ind(revenue_smart, revenue_ultra, equal_var = False)\n",
    "\n",
    "print('p-значение:', results.pvalue)\n",
    "\n",
    "if results.pvalue < alpha:\n",
    "    print(\"Отвергаем нулевую гипотезу\")\n",
    "else:\n",
    "    print(\"Не получилось отвергнуть нулевую гипотезу\") "
   ]
  },
  {
   "cell_type": "markdown",
   "metadata": {},
   "source": [
    "Как разбросаны значения доходов обеих выборок, можем увидеть на графике распределения:"
   ]
  },
  {
   "cell_type": "code",
   "execution_count": 32,
   "metadata": {},
   "outputs": [
    {
     "data": {
      "image/png": "[encoded data removed]",
      "text/plain": [
       "<Figure size 425x360 with 1 Axes>"
      ]
     },
     "metadata": {
      "needs_background": "light"
     },
     "output_type": "display_data"
    }
   ],
   "source": [
    "sns.displot(data=united_data, x='revenue', hue=\"tariff\", palette='ocean', kde=True)\n",
    "plt.title('Выручка по тарифам', fontsize=13)\n",
    "plt.show()"
   ]
  },
  {
   "cell_type": "markdown",
   "metadata": {},
   "source": [
    "Видим, что средние далеки друг от друга. И говорить о том, что пользователи тарифа «Смарт» приносят компании такой же доход, как пользователи тарифа «Ультра», мы не можем."
   ]
  },
  {
   "cell_type": "markdown",
   "metadata": {},
   "source": [
    "Если гипотеза о равенстве средней выручки не подтвердилась, можем проверить одностороннюю гипотезу о том, что, например, выручка от пользователей тарифа \"Смарт\" меньше.\n",
    "\n",
    "Нулевая гипотеза (наша точка отправления) по-прежнему гласит: средние выручки равны.\n",
    "\n",
    "\n",
    "Альтернативная гипотеза: средняя выручка \"Смарта\" значимо меньше средней выручки \"Ультры\"."
   ]
  },
  {
   "cell_type": "code",
   "execution_count": 33,
   "metadata": {},
   "outputs": [
    {
     "name": "stdout",
     "output_type": "stream",
     "text": [
      "p-значение: 1.681759983e-315\n",
      "Отвергаем нулевую гипотезу, средняя выручка 'Смарта' значимо меньше средней выручки 'Ультры'\n"
     ]
    }
   ],
   "source": [
    "alpha = .01 \n",
    "\n",
    "results = st.ttest_1samp(\n",
    "    revenue_smart, \n",
    "    revenue_ultra.mean())\n",
    "\n",
    "print('p-значение:', results.pvalue / 2)\n",
    "\n",
    "if (results.pvalue / 2 < alpha) and (revenue_smart.mean() < revenue_ultra.mean()):\n",
    "    print(\"Отвергаем нулевую гипотезу, средняя выручка 'Смарта' значимо меньше средней выручки 'Ультры'\")\n",
    "else:\n",
    "    print(\"Не отвергаем нулевую гипотезу\")\n"
   ]
  },
  {
   "cell_type": "markdown",
   "metadata": {},
   "source": [
    "Вывод: гипотеза о равенстве средней выручки пользователей тарифов «Смарт» и «Ультра» не подтвердилась и была отвергнута. Есть основания предполагать, что тариф \"Смарт\", в среднем, приносит меньше денег."
   ]
  },
  {
   "cell_type": "markdown",
   "metadata": {},
   "source": [
    "#### Гипотеза о равенстве средней выручки пользователей из Москвы и выручки пользователей из других регионов\n",
    "\n",
    "Аналогичным образом сопоставим выручку от жителей столицы и других городов.\n",
    "\n",
    "Нулевой, тестируемой гипотезой будет то, что средняя выручка обеих выборок будет равна. Альтернативной гипотезой - что средняя выручка пользователей из Москвы отличается от выручки пользователей из других регионов. Если уровень значимости вероятности нулевой гипотезы будет выше заданного критического уровня, у нас будут основания не отвергать ее.\n",
    "\n",
    "И корректирую выборки:"
   ]
  },
  {
   "cell_type": "code",
   "execution_count": 34,
   "metadata": {},
   "outputs": [
    {
     "name": "stdout",
     "output_type": "stream",
     "text": [
      "p-значение: 0.5257376663729298\n",
      "Не получилось отвергнуть нулевую гипотезу\n"
     ]
    }
   ],
   "source": [
    "#выборки по Москве и регионам\n",
    "revenue_msk = united_data[united_data['city']== 'Москва']['revenue']\n",
    "revenue_region = united_data[united_data['city']!= 'Москва']['revenue']\n",
    "\n",
    "alpha = .01\n",
    "\n",
    "results = st.ttest_ind(revenue_msk, revenue_region, equal_var = False)\n",
    "\n",
    "print('p-значение:', results.pvalue)\n",
    "\n",
    "if results.pvalue < alpha:\n",
    "    print(\"Отвергаем нулевую гипотезу\")\n",
    "else:\n",
    "    print(\"Не получилось отвергнуть нулевую гипотезу\") "
   ]
  },
  {
   "cell_type": "code",
   "execution_count": 35,
   "metadata": {},
   "outputs": [
    {
     "data": {
      "image/png": "[encoded data removed]",
      "text/plain": [
       "<Figure size 440.25x360 with 1 Axes>"
      ]
     },
     "metadata": {
      "needs_background": "light"
     },
     "output_type": "display_data"
    }
   ],
   "source": [
    "def city_group(city):\n",
    "    if city=='Москва':\n",
    "        return 'Москва'\n",
    "    return 'Регионы'\n",
    "united_data['city_group'] = united_data['city'].apply(city_group)\n",
    "#для упрощения отрисовывания графика провела категоризацию по городам\n",
    "\n",
    "sns.displot(data=united_data, x='revenue', hue='city_group', palette='winter_r', kde=True)\n",
    "plt.title('Выручка по Москве и регионам', fontsize=13)\n",
    "plt.show()"
   ]
  },
  {
   "cell_type": "markdown",
   "metadata": {},
   "source": [
    "Распределения очень близки."
   ]
  },
  {
   "cell_type": "markdown",
   "metadata": {},
   "source": [
    "Вывод: можно предполагать, что для доходов компании место жительства пользователей значения не имеет: подтверждений тому, \n",
    "что средняя выручка от жителей столицы отличается от средней выручки от жителей регионов, нет."
   ]
  },
  {
   "cell_type": "markdown",
   "metadata": {},
   "source": [
    "### Шаг 5. Общий вывод <a id=\"conclusion\"></a> "
   ]
  },
  {
   "cell_type": "markdown",
   "metadata": {},
   "source": [
    "Проект был посвящен анализу поведения абонентов оператора сотовой связи, использующих два предложенных тарифа. Целью проекта было понять, какой тариф приносит больше денег.\n",
    "\n",
    "В качестве данных были предоставлены несколько таблиц:\n",
    "•\tТаблица users (информация о пользователях),\n",
    "•\tТаблица calls (информация о звонках),\n",
    "•\tТаблица messages (информация о сообщениях),\n",
    "•\tТаблица internet (информация об интернет-сессиях),\n",
    "•\tТаблица tariffs (информация о тарифах).\n",
    "\n",
    "Знакомство с таблицами и изучение данных в них показало, что ошибок, аномалий, пропусков нет, и связь между ними может быть установлена по идентификатору пользователя. Это позволило обойтись минимальной предобработкой и быстро собрать все данные в одну объединенную таблицу пользователей.\n",
    "\n",
    "Также данных было достаточно, чтобы рассчитать объемы потребленных услуг, затраченные на превышенный лимит деньги и общую выручку компании в каждом месяце от каждого пользователя.\n",
    "\n",
    "При сравнительном анализе данных было установлено, что абоненты тарифа \"Ультра\" тратят больше минут разговора, сообщений и гб интернет-трафика каждый месяц, чем абоненты \"Смарта\". Однако, если судить о средних значениях, обе выборки пользователей в большинстве своем придерживаются заданных тарифами лимитов. Как следствие, \"приносят\" компании только абонентскую плату.\n",
    "\n",
    "Тут нелишним будет вспомнить, что ежемесячная плата по тарифу \"Ультра\" почти в четыре раза превосходит плату по тарифу \"Смарт\".\n",
    "Но мы все же решили проверить гипотезу о том, что обе выборки могут приносить одинаковую выручку.\n",
    "\n",
    "Результат t-теста двух независимых выборок показал, что заявленная гипотеза не подтвердилась. Более того, дополнительное тестирование показало, что средняя выручка 'Смарта' статистически значимо меньше средней выручки 'Ультры'.\n",
    "\n",
    "Наконец, предположение о том, что доходность от московских пользователей отличается от доходности пользователей других городов, не подтвердилось. Похоже, в среднем, пользователи по всей стране ведут себя одинаково.\n",
    "\n",
    "В связи с вышеизложенным, можно рекомендовать маркетологам компании делать упор не на географии и акцентированной работе с конкретными регионами, а на продвижении тарифа \"Ультра\"."
   ]
  },
  {
   "cell_type": "code",
   "execution_count": null,
   "metadata": {},
   "outputs": [],
   "source": []
  }
 ],
 "metadata": {
  "ExecuteTimeLog": [
   {
    "duration": 1345,
    "start_time": "2022-05-14T12:32:23.757Z"
   },
   {
    "duration": 445,
    "start_time": "2022-05-14T12:32:57.992Z"
   },
   {
    "duration": 477,
    "start_time": "2022-05-14T12:33:49.741Z"
   },
   {
    "duration": 425,
    "start_time": "2022-05-14T12:33:54.136Z"
   },
   {
    "duration": 54,
    "start_time": "2022-05-14T12:33:57.477Z"
   },
   {
    "duration": 5,
    "start_time": "2022-05-14T12:34:54.058Z"
   },
   {
    "duration": 3358,
    "start_time": "2022-05-14T12:34:56.257Z"
   },
   {
    "duration": 4,
    "start_time": "2022-05-14T12:35:30.896Z"
   },
   {
    "duration": 3286,
    "start_time": "2022-05-14T12:35:31.680Z"
   },
   {
    "duration": 78,
    "start_time": "2022-05-14T12:36:29.424Z"
   },
   {
    "duration": 188,
    "start_time": "2022-05-14T12:37:11.379Z"
   },
   {
    "duration": 7,
    "start_time": "2022-05-14T12:38:02.977Z"
   },
   {
    "duration": 27,
    "start_time": "2022-05-14T12:38:11.745Z"
   },
   {
    "duration": 48,
    "start_time": "2022-05-14T12:38:40.503Z"
   },
   {
    "duration": 33,
    "start_time": "2022-05-14T12:39:07.345Z"
   },
   {
    "duration": 47,
    "start_time": "2022-05-14T12:39:53.687Z"
   },
   {
    "duration": 42,
    "start_time": "2022-05-14T12:40:01.216Z"
   },
   {
    "duration": 98,
    "start_time": "2022-05-14T12:40:24.342Z"
   },
   {
    "duration": 37,
    "start_time": "2022-05-14T12:40:27.396Z"
   },
   {
    "duration": 19,
    "start_time": "2022-05-14T12:40:29.166Z"
   },
   {
    "duration": 1193,
    "start_time": "2022-05-14T12:40:44.516Z"
   },
   {
    "duration": 1245,
    "start_time": "2022-05-14T12:40:45.711Z"
   },
   {
    "duration": 62,
    "start_time": "2022-05-14T12:40:46.957Z"
   },
   {
    "duration": 4,
    "start_time": "2022-05-14T12:40:47.021Z"
   },
   {
    "duration": 3457,
    "start_time": "2022-05-14T12:40:47.027Z"
   },
   {
    "duration": 84,
    "start_time": "2022-05-14T12:40:50.486Z"
   },
   {
    "duration": 22,
    "start_time": "2022-05-14T12:40:50.571Z"
   },
   {
    "duration": 229,
    "start_time": "2022-05-14T12:40:50.595Z"
   },
   {
    "duration": 9,
    "start_time": "2022-05-14T12:40:50.826Z"
   },
   {
    "duration": 11,
    "start_time": "2022-05-14T12:40:50.838Z"
   },
   {
    "duration": 47,
    "start_time": "2022-05-14T12:40:50.851Z"
   },
   {
    "duration": 61,
    "start_time": "2022-05-14T12:40:50.900Z"
   },
   {
    "duration": 55,
    "start_time": "2022-05-14T12:40:50.962Z"
   },
   {
    "duration": 43,
    "start_time": "2022-05-14T12:40:51.018Z"
   },
   {
    "duration": 19,
    "start_time": "2022-05-14T12:41:03.292Z"
   },
   {
    "duration": 105,
    "start_time": "2022-05-14T12:41:14.408Z"
   },
   {
    "duration": 19,
    "start_time": "2022-05-14T12:41:17.389Z"
   },
   {
    "duration": 3,
    "start_time": "2022-05-14T12:41:18.555Z"
   },
   {
    "duration": 26,
    "start_time": "2022-05-14T12:41:19.459Z"
   },
   {
    "duration": 5,
    "start_time": "2022-05-14T12:42:35.430Z"
   },
   {
    "duration": 21,
    "start_time": "2022-05-14T12:42:40.814Z"
   },
   {
    "duration": 33,
    "start_time": "2022-05-14T12:42:49.096Z"
   },
   {
    "duration": 21,
    "start_time": "2022-05-14T12:43:08.699Z"
   },
   {
    "duration": 34,
    "start_time": "2022-05-14T12:45:36.635Z"
   },
   {
    "duration": 19,
    "start_time": "2022-05-14T12:45:53.808Z"
   },
   {
    "duration": 3,
    "start_time": "2022-05-14T12:46:27.295Z"
   },
   {
    "duration": 31,
    "start_time": "2022-05-14T12:46:29.678Z"
   },
   {
    "duration": 5,
    "start_time": "2022-05-14T12:47:06.912Z"
   },
   {
    "duration": 2,
    "start_time": "2022-05-14T12:48:05.897Z"
   },
   {
    "duration": 32,
    "start_time": "2022-05-14T12:48:08.027Z"
   },
   {
    "duration": 5,
    "start_time": "2022-05-14T12:48:36.115Z"
   },
   {
    "duration": 31,
    "start_time": "2022-05-14T12:48:40.692Z"
   },
   {
    "duration": 3,
    "start_time": "2022-05-14T12:49:02.024Z"
   },
   {
    "duration": 30,
    "start_time": "2022-05-14T12:49:10.913Z"
   },
   {
    "duration": 5,
    "start_time": "2022-05-14T12:49:14.685Z"
   },
   {
    "duration": 4,
    "start_time": "2022-05-14T12:49:24.007Z"
   },
   {
    "duration": 30,
    "start_time": "2022-05-14T12:49:32.454Z"
   },
   {
    "duration": 37,
    "start_time": "2022-05-14T12:50:27.457Z"
   },
   {
    "duration": 167,
    "start_time": "2022-05-14T12:51:29.109Z"
   },
   {
    "duration": 173,
    "start_time": "2022-05-14T12:52:05.786Z"
   },
   {
    "duration": 157,
    "start_time": "2022-05-14T12:52:07.473Z"
   },
   {
    "duration": 161,
    "start_time": "2022-05-14T12:52:09.280Z"
   },
   {
    "duration": 23,
    "start_time": "2022-05-14T12:54:18.754Z"
   },
   {
    "duration": 297,
    "start_time": "2022-05-14T12:54:23.165Z"
   },
   {
    "duration": 282,
    "start_time": "2022-05-14T12:54:24.324Z"
   },
   {
    "duration": 243,
    "start_time": "2022-05-14T12:54:25.493Z"
   },
   {
    "duration": 365,
    "start_time": "2022-05-14T12:54:26.461Z"
   },
   {
    "duration": 11,
    "start_time": "2022-05-14T12:54:30.951Z"
   },
   {
    "duration": 16,
    "start_time": "2022-05-14T12:55:56.229Z"
   },
   {
    "duration": 317,
    "start_time": "2022-05-14T12:58:49.569Z"
   },
   {
    "duration": 5,
    "start_time": "2022-05-14T12:59:13.627Z"
   },
   {
    "duration": 16,
    "start_time": "2022-05-14T12:59:23.308Z"
   },
   {
    "duration": 17,
    "start_time": "2022-05-14T13:00:03.762Z"
   },
   {
    "duration": 15,
    "start_time": "2022-05-14T13:01:19.479Z"
   },
   {
    "duration": 1109,
    "start_time": "2022-05-14T13:04:02.699Z"
   },
   {
    "duration": 453,
    "start_time": "2022-05-14T13:04:03.810Z"
   },
   {
    "duration": 57,
    "start_time": "2022-05-14T13:04:04.265Z"
   },
   {
    "duration": 5,
    "start_time": "2022-05-14T13:04:04.324Z"
   },
   {
    "duration": 3389,
    "start_time": "2022-05-14T13:04:04.330Z"
   },
   {
    "duration": 83,
    "start_time": "2022-05-14T13:04:07.720Z"
   },
   {
    "duration": 7,
    "start_time": "2022-05-14T13:04:07.805Z"
   },
   {
    "duration": 217,
    "start_time": "2022-05-14T13:04:07.814Z"
   },
   {
    "duration": 7,
    "start_time": "2022-05-14T13:04:08.032Z"
   },
   {
    "duration": 9,
    "start_time": "2022-05-14T13:04:08.041Z"
   },
   {
    "duration": 48,
    "start_time": "2022-05-14T13:04:08.051Z"
   },
   {
    "duration": 64,
    "start_time": "2022-05-14T13:04:08.101Z"
   },
   {
    "duration": 50,
    "start_time": "2022-05-14T13:04:08.167Z"
   },
   {
    "duration": 41,
    "start_time": "2022-05-14T13:04:08.218Z"
   },
   {
    "duration": 41,
    "start_time": "2022-05-14T13:04:08.260Z"
   },
   {
    "duration": 3,
    "start_time": "2022-05-14T13:04:08.302Z"
   },
   {
    "duration": 25,
    "start_time": "2022-05-14T13:04:08.307Z"
   },
   {
    "duration": 32,
    "start_time": "2022-05-14T13:04:08.333Z"
   },
   {
    "duration": 51,
    "start_time": "2022-05-14T13:04:08.367Z"
   },
   {
    "duration": 182,
    "start_time": "2022-05-14T13:04:08.420Z"
   },
   {
    "duration": 184,
    "start_time": "2022-05-14T13:04:08.604Z"
   },
   {
    "duration": 167,
    "start_time": "2022-05-14T13:04:08.789Z"
   },
   {
    "duration": 171,
    "start_time": "2022-05-14T13:04:08.957Z"
   },
   {
    "duration": 20,
    "start_time": "2022-05-14T13:04:09.129Z"
   },
   {
    "duration": 308,
    "start_time": "2022-05-14T13:04:09.151Z"
   },
   {
    "duration": 292,
    "start_time": "2022-05-14T13:04:09.461Z"
   },
   {
    "duration": 256,
    "start_time": "2022-05-14T13:04:09.755Z"
   },
   {
    "duration": 377,
    "start_time": "2022-05-14T13:04:10.014Z"
   },
   {
    "duration": 10,
    "start_time": "2022-05-14T13:04:10.393Z"
   },
   {
    "duration": 18,
    "start_time": "2022-05-14T13:04:10.405Z"
   },
   {
    "duration": 335,
    "start_time": "2022-05-14T13:04:10.424Z"
   },
   {
    "duration": 6,
    "start_time": "2022-05-14T13:04:10.761Z"
   },
   {
    "duration": 30,
    "start_time": "2022-05-14T13:04:10.768Z"
   },
   {
    "duration": 320,
    "start_time": "2022-05-14T13:04:10.800Z"
   }
  ],
  "kernelspec": {
   "display_name": "Python 3 (ipykernel)",
   "language": "python",
   "name": "python3"
  },
  "language_info": {
   "codemirror_mode": {
    "name": "ipython",
    "version": 3
   },
   "file_extension": ".py",
   "mimetype": "text/x-python",
   "name": "python",
   "nbconvert_exporter": "python",
   "pygments_lexer": "ipython3",
   "version": "3.9.7"
  },
  "toc": {
   "base_numbering": 1,
   "nav_menu": {},
   "number_sections": true,
   "sideBar": true,
   "skip_h1_title": true,
   "title_cell": "Table of Contents",
   "title_sidebar": "Contents",
   "toc_cell": false,
   "toc_position": {},
   "toc_section_display": true,
   "toc_window_display": false
  }
 },
 "nbformat": 4,
 "nbformat_minor": 2
}
